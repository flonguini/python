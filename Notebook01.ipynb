{
 "cells": [
  {
   "cell_type": "markdown",
   "metadata": {},
   "source": [
    "<div style=\"width: 100%; text-align: center; color: white; background-color: #222; font-size: 3em; font-weight: 700; padding: .5em .5em .6em .5em; line-height: 1.4em;\">Programação em Python para Iniciantes</div>\n",
    "\n",
    "<br>\n",
    "\n",
    "<!-- # Introdução à Programação em Python -->\n",
    "\n",
    "\n",
    "# Jupyter Notebooks\n",
    "\n",
    "\n",
    "Antes de mais nada, este é um _notebook_: um arquivo estruturado que contém texto e código intercalados. A maneira ideal de acessar este arquivo, seja para leitura ou edição, é através do software [Jupyter](http://jupyter.org/). \n",
    "\n",
    "Em um _notebook_, as unidades básicas de texto ou de código são chamadas de células. É fácil distinguir as células de código pois elas vem precedidas por \n",
    "\n",
    "    In [ ]:\n",
    "    \n",
    "como a célula abaixo."
   ]
  },
  {
   "cell_type": "code",
   "execution_count": 1,
   "metadata": {},
   "outputs": [
    {
     "data": {
      "text/plain": [
       "7"
      ]
     },
     "execution_count": 1,
     "metadata": {},
     "output_type": "execute_result"
    }
   ],
   "source": [
    "# Esta é uma célula de código\n",
    "9-2"
   ]
  },
  {
   "cell_type": "markdown",
   "metadata": {},
   "source": [
    "O Jupyter permite editar e executar as células dum notebook. Em particular, você pode clicar dentro das células de código e escrever nelas. Se você estiver acessando este arquivo pelo Jupyter, então também poderá executar as células de código. \n",
    "\n",
    "Para executar uma célula de código, basta selecionar a célula e digitar <kbd>SHIFT+ENTER</kbd>. Qualquer saída gerada pelo código executado será exibida logo em seguida precedida por\n",
    "\n",
    "     Out [ ]:\n",
    "\n",
    "\n",
    "Por exemplo, clique no final do texto na célula de código acima, pressione <kbd>ENTER</kbd> e em seguida digite 2+2. Após isso, digite <kbd>SHIFT+ENTER</kbd> e veja o resultado!\n",
    "\n",
    "\n",
    "Note que pressionando <kbd>ENTER</kbd> uma nova linha é inserida enquanto para executar a célula é necessário pressionar <kbd>SHIFT+ENTER</kbd>\n",
    "\n",
    "Escrever texto numa linha de código gera como saída um erro. Execute a seguinte célula e veja a diferença. Você vai a aprender o motivo em breve.\n"
   ]
  },
  {
   "cell_type": "code",
   "execution_count": null,
   "metadata": {},
   "outputs": [],
   "source": [
    "Esta é uma célula de código"
   ]
  },
  {
   "cell_type": "markdown",
   "metadata": {},
   "source": [
    "A execução duma célula pode travar o kernel caso o código não funcione de forma apropriada. Támbém você pode desejar parar a execução caso demorar mais do previsto. Se precisar, você pode interromper o kernel através do botão <img alt=\"stop\" style=\"display: inline;\" src=\"data:image/png;base64,iVBORw0KGgoAAAANSUhEUgAAACAAAAAZCAIAAADfbbvGAAAAA3NCSVQICAjb4U/gAAAAGXRFWHRTb2Z0d2FyZQBnbm9tZS1zY3JlZW5zaG907wO/PgAAAH9JREFUSIljOHPmzH+agbVr1zIx0BiMWkAQsOCT/Pns5q23v/DqZ5NUUxdhJ9OCB8tLoqfcwms+A4Nx5Y6ZwSK45fEG0eefBEwnAgz9SB61YNSCIW4BmzAvGyH9bDw8+Eoi/GWRVNSCY1GEbCAEhnccjFrAwMAASUVnz56lnQUAuo1xSm7pazkAAAAASUVORK5CYII=\" />.\n",
    "\n",
    "\n",
    "Execute a célula abaixo que vai demorar para terminar de executar. Não se preocupe, você vai entender o que faz o código nas próximas aulas.\n"
   ]
  },
  {
   "cell_type": "code",
   "execution_count": 3,
   "metadata": {},
   "outputs": [
    {
     "ename": "SyntaxError",
     "evalue": "invalid syntax (<ipython-input-3-654a6db525a6>, line 1)",
     "output_type": "error",
     "traceback": [
      "\u001b[1;36m  File \u001b[1;32m\"<ipython-input-3-654a6db525a6>\"\u001b[1;36m, line \u001b[1;32m1\u001b[0m\n\u001b[1;33m    for cont in range(1,1000000000000000)\u001b[0m\n\u001b[1;37m                                         ^\u001b[0m\n\u001b[1;31mSyntaxError\u001b[0m\u001b[1;31m:\u001b[0m invalid syntax\n"
     ]
    }
   ],
   "source": [
    "for cont in range(1,1000000000000000)\n",
    "    print(\".\", end=\"\")"
   ]
  },
  {
   "cell_type": "markdown",
   "metadata": {},
   "source": [
    "Agora pressione o botão <img alt=\"stop\" style=\"display: inline;\" src=\"data:image/png;base64,iVBORw0KGgoAAAANSUhEUgAAACAAAAAZCAIAAADfbbvGAAAAA3NCSVQICAjb4U/gAAAAGXRFWHRTb2Z0d2FyZQBnbm9tZS1zY3JlZW5zaG907wO/PgAAAH9JREFUSIljOHPmzH+agbVr1zIx0BiMWkAQsOCT/Pns5q23v/DqZ5NUUxdhJ9OCB8tLoqfcwms+A4Nx5Y6ZwSK45fEG0eefBEwnAgz9SB61YNSCIW4BmzAvGyH9bDw8+Eoi/GWRVNSCY1GEbCAEhnccjFrAwMAASUVnz56lnQUAuo1xSm7pazkAAAAASUVORK5CYII=\" /> para interromper o kernel.\n",
    "\n",
    "<img src=\"http://professor.ufabc.edu.br/~mirtha.lina/images/interruptKernel.png\"></img>\n",
    "\n"
   ]
  },
  {
   "cell_type": "markdown",
   "metadata": {},
   "source": [
    "Para limpar a saída anterior você pode clicar na célula de código e selecionar a opção do menú **Cell &raquo; Current Outputs &raquo; Clear_**.\n",
    "\n",
    "<hr style=\"border-color: #ddd;\">\n",
    "\n",
    "A última célula com código deste _notebook_ é destinada somente para personalizar a formatação. Selecione essa célula, digite <kbd>SHIFT+ENTER</kbd> e veja o que mudou na apariência."
   ]
  },
  {
   "cell_type": "markdown",
   "metadata": {},
   "source": [
    "# Python como uma calculadora\n",
    "\n",
    "Em qualquer trabalho moderno, é comum precisarmos de uma calculadora para fazer contas. O console do Python é uma excelente ferramenta para se fazer cálculos. Neste _notebook_, além de nos familiarizar com o ambiente do Jupyter  vamos aprender os elementos de programação em Python. \n",
    "\n",
    "\n",
    "## As quatro operações aritméticas usuais\n",
    "\n",
    "Clique em cada célula abaixo, tecle <kbd>SHIFT-ENTER</kbd> e veja o que acontece. Também mude alguns dos valores."
   ]
  },
  {
   "cell_type": "code",
   "execution_count": 5,
   "metadata": {},
   "outputs": [
    {
     "data": {
      "text/plain": [
       "12"
      ]
     },
     "execution_count": 5,
     "metadata": {},
     "output_type": "execute_result"
    }
   ],
   "source": [
    "10 + 5 - 3"
   ]
  },
  {
   "cell_type": "code",
   "execution_count": 6,
   "metadata": {},
   "outputs": [
    {
     "data": {
      "text/plain": [
       "12"
      ]
     },
     "execution_count": 6,
     "metadata": {},
     "output_type": "execute_result"
    }
   ],
   "source": [
    "4 * 3"
   ]
  },
  {
   "cell_type": "code",
   "execution_count": 7,
   "metadata": {},
   "outputs": [
    {
     "data": {
      "text/plain": [
       "21.02"
      ]
     },
     "execution_count": 7,
     "metadata": {},
     "output_type": "execute_result"
    }
   ],
   "source": [
    "2800.20 / 133.21598477640342"
   ]
  },
  {
   "cell_type": "code",
   "execution_count": 8,
   "metadata": {},
   "outputs": [
    {
     "data": {
      "text/plain": [
       "3.0"
      ]
     },
     "execution_count": 8,
     "metadata": {},
     "output_type": "execute_result"
    }
   ],
   "source": [
    "12 / 4"
   ]
  },
  {
   "cell_type": "markdown",
   "metadata": {},
   "source": [
    "Ou seja, usamos os símbolos &nbsp;`+`&nbsp;, &nbsp;`-`&nbsp;, &nbsp;`*`&nbsp; e &nbsp;`/`&nbsp; para soma, subtração, multiplicação e divisão, respectivamente. Isso é como você esperava, não é?\n",
    "\n",
    "Então, para executar uma célula, basta teclar <kbd>SHIFT-ENTER</kbd>. Se você teclar <kbd>ENTER</kbd> sozinho, você criará mais linhas dentro da mesma célula.\n",
    "\n",
    "<span style=\"color: #FF0000;\"><b>Atenção:</b></span> o caractére que separa as casas decimais em Python é o **ponto** e não a vírgula!"
   ]
  },
  {
   "cell_type": "markdown",
   "metadata": {},
   "source": [
    "## Potenciação\n",
    "\n",
    "A potenciação é denotada por `**`. Ou seja, para calcular $2^4$, precisamos escrever `2**4`.\n",
    "\n",
    "Execute as células abaixo apertando <kbd>SHIFT-ENTER</kbd>. Tente prever o resultado antes!"
   ]
  },
  {
   "cell_type": "code",
   "execution_count": 9,
   "metadata": {},
   "outputs": [
    {
     "data": {
      "text/plain": [
       "16"
      ]
     },
     "execution_count": 9,
     "metadata": {},
     "output_type": "execute_result"
    }
   ],
   "source": [
    "2**4"
   ]
  },
  {
   "cell_type": "code",
   "execution_count": 10,
   "metadata": {},
   "outputs": [
    {
     "data": {
      "text/plain": [
       "9"
      ]
     },
     "execution_count": 10,
     "metadata": {},
     "output_type": "execute_result"
    }
   ],
   "source": [
    "3**2"
   ]
  },
  {
   "cell_type": "markdown",
   "metadata": {},
   "source": [
    "## Divisão inteira e resto\n",
    "\n",
    "Python tem um tipo especial de divisão que é chamada de divisão inteira, em que um número é dividido por outro e depois o resultado é **arrendondado** para baixo. O operador de divisão inteira é `//`.\n",
    "\n",
    "Mais formalmente, quando `a` e `b` são números inteiros, `a // b` é o quociente da divisão de `a` por `b`.\n",
    "\n",
    "Veja como a divisão inteira funciona:"
   ]
  },
  {
   "cell_type": "code",
   "execution_count": 11,
   "metadata": {},
   "outputs": [
    {
     "data": {
      "text/plain": [
       "1"
      ]
     },
     "execution_count": 11,
     "metadata": {},
     "output_type": "execute_result"
    }
   ],
   "source": [
    "3//2"
   ]
  },
  {
   "cell_type": "code",
   "execution_count": 12,
   "metadata": {},
   "outputs": [
    {
     "data": {
      "text/plain": [
       "3"
      ]
     },
     "execution_count": 12,
     "metadata": {},
     "output_type": "execute_result"
    }
   ],
   "source": [
    "11//3"
   ]
  },
  {
   "cell_type": "markdown",
   "metadata": {},
   "source": [
    "Python também tem o operador &nbsp;`%`&nbsp; que calcula o resto da divisão de um número por outro.\n",
    "\n",
    "Por exemplo, o resto da divisão de 17 por 5 é igual 2. Veja:"
   ]
  },
  {
   "cell_type": "code",
   "execution_count": 13,
   "metadata": {},
   "outputs": [
    {
     "data": {
      "text/plain": [
       "2"
      ]
     },
     "execution_count": 13,
     "metadata": {},
     "output_type": "execute_result"
    }
   ],
   "source": [
    "17%5"
   ]
  },
  {
   "cell_type": "code",
   "execution_count": 14,
   "metadata": {},
   "outputs": [
    {
     "data": {
      "text/plain": [
       "6"
      ]
     },
     "execution_count": 14,
     "metadata": {},
     "output_type": "execute_result"
    }
   ],
   "source": [
    "13%7"
   ]
  },
  {
   "cell_type": "markdown",
   "metadata": {},
   "source": [
    "## Combinando operações\n",
    "\n",
    "Você consegue prever o resultado das expressões abaixo?\n",
    "\n",
    "Execute as células para verificar se você acertou!\n"
   ]
  },
  {
   "cell_type": "code",
   "execution_count": 15,
   "metadata": {},
   "outputs": [
    {
     "data": {
      "text/plain": [
       "6"
      ]
     },
     "execution_count": 15,
     "metadata": {},
     "output_type": "execute_result"
    }
   ],
   "source": [
    "8*3//2**2"
   ]
  },
  {
   "cell_type": "code",
   "execution_count": 16,
   "metadata": {},
   "outputs": [
    {
     "data": {
      "text/plain": [
       "16"
      ]
     },
     "execution_count": 16,
     "metadata": {},
     "output_type": "execute_result"
    }
   ],
   "source": [
    "1+5*3"
   ]
  },
  {
   "cell_type": "markdown",
   "metadata": {},
   "source": [
    "Neste último caso, o Python primeiro calcula o `5*3` e depois soma 1, certo?\n",
    "\n",
    "Isso acontece porque o Python executa as operações na seguinte ordem de precedência:\n",
    "\n",
    "\n",
    "1.    &nbsp;&nbsp;&nbsp;`**`\n",
    "2.    &nbsp;&nbsp;&nbsp;`*`&nbsp;&nbsp;&nbsp;&nbsp;`/`&nbsp;&nbsp;&nbsp;&nbsp;`//`&nbsp;&nbsp;&nbsp;&nbsp;`%`\n",
    "3.    &nbsp;&nbsp;&nbsp;`+`&nbsp;&nbsp;&nbsp;&nbsp;`-`\n",
    "\n",
    "Você pode colocar parênteses para mudar a ordem. Na dúvida, sempre coloque parênteses para deixar a ordem explícita.\n",
    "\n",
    "Poderíamos, por exemplo, alterar a célula acima colocando `(1+5)*3` para indicar que o `+` deve ser feito antes do `*`.\n",
    "\n",
    "Também é importante tomar cuidado com a sintaxe (forma de escrever) as expressões para evitar erros. Veja abaixo alguns exemplos."
   ]
  },
  {
   "cell_type": "code",
   "execution_count": null,
   "metadata": {},
   "outputs": [],
   "source": [
    "3***6"
   ]
  },
  {
   "cell_type": "code",
   "execution_count": 22,
   "metadata": {},
   "outputs": [
    {
     "ename": "SyntaxError",
     "evalue": "invalid syntax (<ipython-input-22-c3489a8bcee0>, line 1)",
     "output_type": "error",
     "traceback": [
      "\u001b[1;36m  File \u001b[1;32m\"<ipython-input-22-c3489a8bcee0>\"\u001b[1;36m, line \u001b[1;32m1\u001b[0m\n\u001b[1;33m    4!2\u001b[0m\n\u001b[1;37m     ^\u001b[0m\n\u001b[1;31mSyntaxError\u001b[0m\u001b[1;31m:\u001b[0m invalid syntax\n"
     ]
    }
   ],
   "source": [
    "4!2\n"
   ]
  },
  {
   "cell_type": "markdown",
   "metadata": {},
   "source": [
    "<hr>\n",
    "\n",
    "### Exercício <span class=\"exec\"></span>: parcelas sem juros I\n",
    "\n",
    "Alice pagou uma televisão de R$ 3250.00 em 12 vezes sem juros. Qual o valor de cada parcela?"
   ]
  },
  {
   "cell_type": "code",
   "execution_count": 17,
   "metadata": {},
   "outputs": [
    {
     "data": {
      "text/plain": [
       "270.8333333333333"
      ]
     },
     "execution_count": 17,
     "metadata": {},
     "output_type": "execute_result"
    }
   ],
   "source": [
    "3250/12"
   ]
  },
  {
   "cell_type": "markdown",
   "metadata": {},
   "source": [
    "<hr>\n",
    "\n",
    "### Exercício <span class=\"exec\"></span>: aniversário\n",
    "\n",
    "João faz 10 anos de idade hoje, neste exato momento! Na célula abaixo, calcule quantos segundos de vida ele acabou de comemorar. (Ignore os anos bissextos.)\n"
   ]
  },
  {
   "cell_type": "code",
   "execution_count": 18,
   "metadata": {},
   "outputs": [
    {
     "data": {
      "text/plain": [
       "315360000"
      ]
     },
     "execution_count": 18,
     "metadata": {},
     "output_type": "execute_result"
    }
   ],
   "source": [
    "1*3600*24*365*10"
   ]
  },
  {
   "cell_type": "markdown",
   "metadata": {},
   "source": [
    "<hr>\n",
    "\n",
    "### Exercício <span class=\"exec\"></span>: vazamento\n",
    "\n",
    "Uma torneira pinga a uma taxa de 1 gota por segundo. Cada gota possui um volume de 0.05 mililitros. Calcule o volume de água desperdiçado depois de exatos 3 dias de vazamento. Faça a conta de modo que a resposta seja em litros."
   ]
  },
  {
   "cell_type": "code",
   "execution_count": 26,
   "metadata": {},
   "outputs": [
    {
     "data": {
      "text/plain": [
       "12.96"
      ]
     },
     "execution_count": 26,
     "metadata": {},
     "output_type": "execute_result"
    }
   ],
   "source": [
    "x=0.05\n",
    "(3600*24*3)*(x*10**-3)\n",
    "\n"
   ]
  },
  {
   "cell_type": "markdown",
   "metadata": {},
   "source": [
    "\n",
    "\n",
    "## Variáveis\n",
    "\n",
    "Você pode guardar o resultado de um cálculo em uma variável para usá-lo mais duma vez.\n",
    "\n",
    "Vamos fazer o cálculo de conversão de temperatura de Celsius para Fahrenheit. A fórmula para isso é\n",
    "\n",
    "$$ Fahrenheit = Celsius * \\frac{9}{5}+32$$\n",
    "\n",
    "\n",
    "Podemos começar colocando a temperatura em Celsius, digamos 55 graus, numa variável chamada `C`.\n",
    "\n",
    "Não se esqueça de teclar <kbd>SHIFT+ENTER</kbd> em cada uma das células abaixo."
   ]
  },
  {
   "cell_type": "code",
   "execution_count": 27,
   "metadata": {},
   "outputs": [],
   "source": [
    "C = 55"
   ]
  },
  {
   "cell_type": "markdown",
   "metadata": {},
   "source": [
    "Veja o valor de C teclando <kbd>SHIFT+ENTER</kbd> na célula abaixo."
   ]
  },
  {
   "cell_type": "code",
   "execution_count": 28,
   "metadata": {},
   "outputs": [
    {
     "data": {
      "text/plain": [
       "55"
      ]
     },
     "execution_count": 28,
     "metadata": {},
     "output_type": "execute_result"
    }
   ],
   "source": [
    "C"
   ]
  },
  {
   "cell_type": "markdown",
   "metadata": {},
   "source": [
    "Para converter para Fahrenheit, temos que multiplicar `C` por `9/5` e depois somar `32`:"
   ]
  },
  {
   "cell_type": "code",
   "execution_count": 29,
   "metadata": {},
   "outputs": [],
   "source": [
    "F = C * 9 / 5 + 32"
   ]
  },
  {
   "cell_type": "markdown",
   "metadata": {},
   "source": [
    "Veja o valor de F teclando <kbd>SHIFT+ENTER</kbd> na célula abaixo:"
   ]
  },
  {
   "cell_type": "code",
   "execution_count": 30,
   "metadata": {},
   "outputs": [
    {
     "data": {
      "text/plain": [
       "131.0"
      ]
     },
     "execution_count": 30,
     "metadata": {},
     "output_type": "execute_result"
    }
   ],
   "source": [
    "F"
   ]
  },
  {
   "cell_type": "markdown",
   "metadata": {},
   "source": [
    "\n",
    "E se você quisesse converter &nbsp;`65`&nbsp; em vez de &nbsp;`55`?\n",
    "\n",
    "Basta voltar na linha em que você definiu &nbsp;`C = 55`&nbsp; e mudar para &nbsp;`C = 65`&nbsp; e reexecutar a célula.\n",
    "\n",
    "Em seguida, reexecute a linha que definiu &nbsp;`F = C * 9 / 5 + 32`&nbsp; para atualizar o valor em Fahrenheit.\n",
    "\n",
    "Depois, reexecute a linha seguinte para imprimir o novo valor de &nbsp;`F`.\n",
    "\n",
    "O novo valor de &nbsp;`F`&nbsp; deve ser &nbsp;`149`.\n"
   ]
  },
  {
   "cell_type": "markdown",
   "metadata": {},
   "source": [
    "<hr>\n",
    "\n",
    "### Exercício <span class=\"exec\"></span>: conversão de temperatura\n",
    "\n",
    "\n",
    "Modifique as células acima (e reexecute tudo o que for necessário) para converter 80 Celsius para Fahrenheit!\n",
    "\n",
    "<hr>"
   ]
  },
  {
   "cell_type": "markdown",
   "metadata": {},
   "source": [
    "#### Maiúscula ou minúscula?\n",
    "\n",
    "<span style=\"color: #FF0000;\"><b>Atenção:</b></span> letras maiúsculas ou minúsculas fazem diferença!\n",
    "\n",
    "Uma variável chamada `C` e outra chamada `c` são coisas diferentes! Veja o que acontece:\n"
   ]
  },
  {
   "cell_type": "code",
   "execution_count": 31,
   "metadata": {},
   "outputs": [],
   "source": [
    "C = 0\n",
    "c = 1"
   ]
  },
  {
   "cell_type": "code",
   "execution_count": 32,
   "metadata": {},
   "outputs": [
    {
     "data": {
      "text/plain": [
       "0"
      ]
     },
     "execution_count": 32,
     "metadata": {},
     "output_type": "execute_result"
    }
   ],
   "source": [
    "C"
   ]
  },
  {
   "cell_type": "code",
   "execution_count": 33,
   "metadata": {},
   "outputs": [
    {
     "data": {
      "text/plain": [
       "1"
      ]
     },
     "execution_count": 33,
     "metadata": {},
     "output_type": "execute_result"
    }
   ],
   "source": [
    "c"
   ]
  },
  {
   "cell_type": "markdown",
   "metadata": {},
   "source": [
    "Como uma boa prática de programação, evite usar acentos ou outros caractéres especiais em nomes de variáveis.\n",
    "\n",
    "<span style=\"color: #FF0000;\"><b>Atenção:</b></span> nome de variável não pode começar com dígito numérico, mas pode conter dígitos depois do primeiro caractére.\n"
   ]
  },
  {
   "cell_type": "markdown",
   "metadata": {},
   "source": [
    "# Mais sobre o Jupyter\n"
   ]
  },
  {
   "cell_type": "markdown",
   "metadata": {},
   "source": [
    "### Múltiplas linhas de código\n",
    "\n",
    "Células de código podem ter múltiplas linhas. Veja como ficaria o exemplo da conversão de unidades de temperatura numa única célula:"
   ]
  },
  {
   "cell_type": "code",
   "execution_count": 34,
   "metadata": {},
   "outputs": [
    {
     "data": {
      "text/plain": [
       "131.0"
      ]
     },
     "execution_count": 34,
     "metadata": {},
     "output_type": "execute_result"
    }
   ],
   "source": [
    "# Em Python o que escrevemos depois de'#' não é executado\n",
    "# isto é chamado de comentário e nos ajuda a entender o código!\n",
    "# Usar comêntários ajuda a fazer seu código mais legível \n",
    "\n",
    "C = 55\n",
    "F = C * 9 / 5 + 32       # fórmula para conversão de Celsius para Fahrenheit\n",
    "F"
   ]
  },
  {
   "cell_type": "markdown",
   "metadata": {},
   "source": [
    "### Salvando seu trabalho\n",
    "\n",
    "Você pode modificar e salvar os _notebooks_ para armazenar as atividades feitas durante as aulas .Para salvar o seu trabalho, cliquem em **_File &raquo; Save and Checkpoint_** ou no ícone do disquete. Veja também as outras opções do menu **_File_**.\n",
    "\n",
    "**Atenção:** se você estiver usando o site [tmpnb.org](http://tmpnb.org), não é possível salvar arquivos! Nesse caso, clique em **_File &raquo; Download as &raquo; IPython Notebook (.ipynb)_** para baixar uma cópia do _notebook_ para o seu computador, e baixe cópias frequentemente para não perder o seu trabalho!\n"
   ]
  },
  {
   "cell_type": "markdown",
   "metadata": {},
   "source": [
    "### Células de texto\n",
    "\n",
    "Você pode modificar as células de textos com as explicacões e fazer **seus próprios comentários** em linguagem de marcação [Markdown](https://en.wikipedia.org/wiki/Markdown). Para editar uma célula de texto (como esta) é só dar um duplo-clique na célula. Quando terminar de editar, é só apertar <kbd>SHIFT-ENTER</kbd> para que o texto seja visualizado bem formatado novamente. <i>Tags</i> <span style=\"color: #c94c4c;\"><b>HTML</b></span> e fórmulas em _Latex_ como a seguinte também são permitidas:\n",
    "\n",
    "$$ \\int_0^{10} 3x^2\\, dx $$\n",
    "\n",
    "Clique duas vezes sobre esta célula e veja o texto por trás! Mude a linha acima  para calcular a integral definida de -1 a 20 do quadrado da função atual."
   ]
  },
  {
   "cell_type": "markdown",
   "metadata": {},
   "source": [
    "### Mais sobre células\n",
    "\n",
    "Explore os menus _**Edit**_, _**Insert**_ e depois _**Cell**_, para ver quais operações com células podem ser efetuadas. Você também pode usar atalhos pelo teclado para acessar essas funções:\n",
    "\n",
    "* <kbd>ESC B</kbd> insere uma nova célula de código **abaixo** da célula selecionada;\n",
    "* <kbd>ESC A</kbd> insere uma nova célula de código **acima** da célula selecionada;\n",
    "* <kbd>ESC M</kbd> transforma uma célula em célula de **texto**;\n",
    "* <kbd>ESC Y</kbd> transforma uma célula em célula de **código**;\n",
    "* <kbd>CTRL+SHIFT+P</kbd> mostra mais atalhos do teclado.\n"
   ]
  },
  {
   "cell_type": "markdown",
   "metadata": {},
   "source": []
  },
  {
   "cell_type": "markdown",
   "metadata": {},
   "source": [
    "\n",
    "\n",
    "# Entrada e saída\n",
    "\n",
    "\n",
    "Todo programa de computador precisa:\n",
    "\n",
    "* receber dados de alguma fonte (teclado, mouse, arquivo, internet, etc.), \n",
    "* processar esses dados e, \n",
    "* enviar o resultado do processamento para algum lugar (tela, arquivo, impressora, web, etc.).\n",
    "\n",
    "Então, quando tratamos do fluxo de dados por um programa de computador, é comum classsificar os dados como\n",
    "\n",
    "* dados de entrada: são aqueles que o programa **recebe**, e\n",
    "* dados de saída: são aqueles que programa **mostra** ao usuário.\n",
    "\n"
   ]
  },
  {
   "cell_type": "code",
   "execution_count": null,
   "metadata": {},
   "outputs": [],
   "source": []
  },
  {
   "cell_type": "markdown",
   "metadata": {},
   "source": [
    "## Mostrando dados (saída)\n",
    "\n",
    "\n",
    "No exemplo de conversão de temperatura, nós usamos o seguinte código."
   ]
  },
  {
   "cell_type": "code",
   "execution_count": 36,
   "metadata": {},
   "outputs": [
    {
     "data": {
      "text/plain": [
       "131.0"
      ]
     },
     "execution_count": 36,
     "metadata": {},
     "output_type": "execute_result"
    }
   ],
   "source": [
    "C = 55\n",
    "F = C * 9 / 5 + 32\n",
    "F"
   ]
  },
  {
   "cell_type": "markdown",
   "metadata": {},
   "source": [
    "Suponha agora que também quiséssemos calcular a temperatura em Kelvin:"
   ]
  },
  {
   "cell_type": "code",
   "execution_count": 37,
   "metadata": {},
   "outputs": [
    {
     "data": {
      "text/plain": [
       "328.15"
      ]
     },
     "execution_count": 37,
     "metadata": {},
     "output_type": "execute_result"
    }
   ],
   "source": [
    "C = 55\n",
    "F = C * 9 / 5 + 32\n",
    "F\n",
    "K = C + 273.15\n",
    "K"
   ]
  },
  {
   "cell_type": "markdown",
   "metadata": {},
   "source": [
    "Hummm... só o K apareceu e nada do F!\n",
    "\n",
    "Para fazer com que um dado seja mostrado na saída, podemos usar a função `print()`:"
   ]
  },
  {
   "cell_type": "code",
   "execution_count": 38,
   "metadata": {},
   "outputs": [
    {
     "name": "stdout",
     "output_type": "stream",
     "text": [
      "131.0\n",
      "328.15\n"
     ]
    }
   ],
   "source": [
    "C = 55\n",
    "F = C * 9 / 5 + 32\n",
    "print(F)\n",
    "K = C + 273.15\n",
    "print(K)"
   ]
  },
  {
   "cell_type": "markdown",
   "metadata": {},
   "source": [
    "Agora sim!\n",
    "\n",
    "Poderíamos também deixar a saída melhor formatada, você não acha?"
   ]
  },
  {
   "cell_type": "code",
   "execution_count": 39,
   "metadata": {},
   "outputs": [
    {
     "name": "stdout",
     "output_type": "stream",
     "text": [
      "55 Celsius em Fahrenheit é 131.0\n",
      "55 Celsius em Kelvin é 328.15\n"
     ]
    }
   ],
   "source": [
    "C = 55\n",
    "F = C * 9 / 5 + 32\n",
    "print(C, \"Celsius em Fahrenheit é\", F)\n",
    "K = C + 273.15\n",
    "print(C, 'Celsius em Kelvin é', K)"
   ]
  },
  {
   "cell_type": "markdown",
   "metadata": {},
   "source": [
    "Em linhas gerais, a função `print()` recebe uma lista de argumentos (dados numéricos ou de texto) e mostra esses argumentos na saída, separando-os com um espaço em branco. Por fim, o `print()` manda \"pular uma linha\" na saída."
   ]
  },
  {
   "cell_type": "markdown",
   "metadata": {},
   "source": [
    "## Perguntando dados (entrada)\n",
    "\n",
    "\n",
    "Agora que você já sabe mostrar dados na saída, é importante que você aprenda a fazer perguntas ao usuário e saiba receber a reposta que ele digitar.\n",
    "\n",
    "Para pedir que o usuário entre com um dado de texto, use a função `input()`. \n",
    "\n",
    "Veja os exemplos:\n"
   ]
  },
  {
   "cell_type": "code",
   "execution_count": 40,
   "metadata": {},
   "outputs": [
    {
     "name": "stdout",
     "output_type": "stream",
     "text": [
      "Qual é  seu nome? Leonardo\n",
      "Olá, Leonardo\n"
     ]
    }
   ],
   "source": [
    "# Para que seu código seja legível também é importante dar nomes apropriados para as variáveis\n",
    "# Evite usar nomes de variáveis de uma única letra\n",
    "\n",
    "nome = input(\"Qual é  seu nome? \")\n",
    "print(\"Olá,\", nome)"
   ]
  },
  {
   "cell_type": "markdown",
   "metadata": {},
   "source": [
    "Mas olha agora que estranho, execute o código abaixo e responda 1 quando for perguntado a respeito da idade:"
   ]
  },
  {
   "cell_type": "code",
   "execution_count": 41,
   "metadata": {},
   "outputs": [
    {
     "name": "stdout",
     "output_type": "stream",
     "text": [
      "Qual é a sua idade? 1\n",
      "O dobro da sua idade é 11\n"
     ]
    }
   ],
   "source": [
    "idade = input(\"Qual é a sua idade? \")\n",
    "dobro = idade + idade\n",
    "print(\"O dobro da sua idade é\", dobro)"
   ]
  },
  {
   "cell_type": "markdown",
   "metadata": {},
   "source": [
    "**11?? Mas por quê??**"
   ]
  },
  {
   "cell_type": "markdown",
   "metadata": {},
   "source": [
    "O que acontece é que a função `input()` do Python sempre devolve o que o usuário digitar em formato **texto**. \n",
    "\n",
    "Em Python, textos são delimitados por aspas simples ou duplas. Veja:"
   ]
  },
  {
   "cell_type": "code",
   "execution_count": 42,
   "metadata": {},
   "outputs": [
    {
     "data": {
      "text/plain": [
       "'Maria'"
      ]
     },
     "execution_count": 42,
     "metadata": {},
     "output_type": "execute_result"
    }
   ],
   "source": [
    "\"Maria\""
   ]
  },
  {
   "cell_type": "code",
   "execution_count": 43,
   "metadata": {},
   "outputs": [
    {
     "data": {
      "text/plain": [
       "'João'"
      ]
     },
     "execution_count": 43,
     "metadata": {},
     "output_type": "execute_result"
    }
   ],
   "source": [
    "\"João\""
   ]
  },
  {
   "cell_type": "markdown",
   "metadata": {},
   "source": [
    "E olha o que acontece com a soma de dois textos:"
   ]
  },
  {
   "cell_type": "code",
   "execution_count": 44,
   "metadata": {},
   "outputs": [
    {
     "data": {
      "text/plain": [
       "'MariaJoão'"
      ]
     },
     "execution_count": 44,
     "metadata": {},
     "output_type": "execute_result"
    }
   ],
   "source": [
    "\"Maria\" + \"João\""
   ]
  },
  {
   "cell_type": "markdown",
   "metadata": {},
   "source": [
    "Ou seja, somar dois textos tem o efeito de grudá-los.\n",
    "\n",
    "Para ser um pouco mais formal, nós dizemos que o operador `+` **concatena** os textos.\n",
    "\n",
    "Então, no exemplo anterior, como o Python entendeu que a entrada era um texto, o que ele fez foi equivalente ao seguinte:"
   ]
  },
  {
   "cell_type": "code",
   "execution_count": 46,
   "metadata": {},
   "outputs": [
    {
     "name": "stdout",
     "output_type": "stream",
     "text": [
      "123123\n"
     ]
    }
   ],
   "source": [
    "idade = \"123\"\n",
    "dobro = idade + idade \n",
    "print(dobro)"
   ]
  },
  {
   "cell_type": "markdown",
   "metadata": {},
   "source": [
    "---\n",
    "\n",
    "### Exercício <span class=\"exec\"></span>: idade avançada\n",
    "\n",
    "Mude apenas o valor inicial da variável `idade` no programa acima para imprimir 123123 em vez de 11.\n",
    "\n",
    "---"
   ]
  },
  {
   "cell_type": "markdown",
   "metadata": {},
   "source": [
    "## Conversão texto $\\rightarrow$ número\n",
    "\n",
    "Mas o que fazer se quisermos perguntar números em vez de texto?\n",
    "\n",
    "É importante que você saiba que, intenamente, existem três tipos de dados numéricos no Python 3:\n",
    "\n",
    "* números inteiros ( *int* ), como 1, 0, -1, 2, 4\n",
    "* números de ponto flutuante ( *float* ), como 2.13, 1.1, 1.00001, -12.3\n",
    "* números complexos.\n"
   ]
  },
  {
   "cell_type": "markdown",
   "metadata": {},
   "source": [
    "Para pedir um número ao usuário, basta converter o texto que ele digitou para um número do tipo desejado. Isso pode ser feito através das funções `int()` ou `float()`. Veja um exemplo abaixo."
   ]
  },
  {
   "cell_type": "code",
   "execution_count": 47,
   "metadata": {},
   "outputs": [
    {
     "name": "stdout",
     "output_type": "stream",
     "text": [
      "Qual é a sua idade? 1\n",
      "O dobro da sua idade é 2\n"
     ]
    }
   ],
   "source": [
    "idade_texto = input(\"Qual é a sua idade? \")\n",
    "idade = int(idade_texto)\n",
    "dobro = idade + idade\n",
    "print(\"O dobro da sua idade é\", dobro)"
   ]
  },
  {
   "cell_type": "markdown",
   "metadata": {},
   "source": [
    "A linha \n",
    "\n",
    "    idade = int(idade_texto)\n",
    "        \n",
    "converte o valor guardado na variável `idade_texto` para o tipo _int_ e guarda o resultado em `idade`.\n",
    "\n",
    "Escolhemos converter para _int_ pois consideramos idade como sendo um número inteiro.\n",
    "\n",
    "É mais comum &ndash; e mais desejável &ndash; escrever o programa assim:"
   ]
  },
  {
   "cell_type": "code",
   "execution_count": 48,
   "metadata": {},
   "outputs": [
    {
     "name": "stdout",
     "output_type": "stream",
     "text": [
      "Qual é a sua idade? 1\n",
      "O dobro da sua idade é 2\n"
     ]
    }
   ],
   "source": [
    "idade = int(input(\"Qual é a sua idade? \"))\n",
    "dobro = idade + idade\n",
    "print(\"O dobro da sua idade é\", dobro)"
   ]
  },
  {
   "cell_type": "markdown",
   "metadata": {},
   "source": [
    "Nessa versão do programa, a linha \n",
    "\n",
    "    idade = int(input(\"Qual é a sua idade? \"))\n",
    "    \n",
    "faz o mesmo que as duas linhas \n",
    "\n",
    "    idade_texto = input(\"Qual é a sua idade? \")\n",
    "    idade = int(idade_texto)\n",
    "\n",
    "e tem a vantagem de deixar o código mais sucinto e mais legível."
   ]
  },
  {
   "cell_type": "markdown",
   "metadata": {},
   "source": [
    "<hr>\n",
    "\n",
    "Se você quiser permitir que a idade seja um número quebrado, você pode converter o texto lido para _float_:"
   ]
  },
  {
   "cell_type": "code",
   "execution_count": 49,
   "metadata": {},
   "outputs": [
    {
     "name": "stdout",
     "output_type": "stream",
     "text": [
      "Qual é a sua idade? 1\n",
      "O dobro da sua idade é 2.0\n"
     ]
    }
   ],
   "source": [
    "idade = float(input(\"Qual é a sua idade? \"))\n",
    "dobro = idade + idade\n",
    "print(\"O dobro da sua idade é\", dobro)"
   ]
  },
  {
   "cell_type": "markdown",
   "metadata": {},
   "source": [
    "## Conversão número $\\rightarrow$ texto\n",
    "\n",
    "Para converter um número (ou uma expressão numérica) para texto, você pode usar a função `str()`.\n",
    "\n",
    "Veja o exemplo:"
   ]
  },
  {
   "cell_type": "code",
   "execution_count": 50,
   "metadata": {},
   "outputs": [
    {
     "name": "stdout",
     "output_type": "stream",
     "text": [
      "Digite um ano qualquer do passado (4 dígitos): 2017\n",
      "Em 2017, quantos anos você completou?20\n",
      "Em 2016, você completou 19 anos.\n"
     ]
    }
   ],
   "source": [
    "ano = int(input('Digite um ano qualquer do passado (4 dígitos): '))\n",
    "idade = int(input('Em ' + str(ano) + ', quantos anos você completou?'))\n",
    "print('Em 2016, você completou ' + str(idade + 2016 - ano) + ' anos.')"
   ]
  },
  {
   "cell_type": "markdown",
   "metadata": {},
   "source": [
    "### Limitando as casas decimais\n",
    "\n",
    "Para exibir somente um número limitado de casas decimais de um número _float_, podemos usar a função `round()`. Veja o exemplo abaixo."
   ]
  },
  {
   "cell_type": "code",
   "execution_count": 51,
   "metadata": {},
   "outputs": [
    {
     "data": {
      "text/plain": [
       "234.235"
      ]
     },
     "execution_count": 51,
     "metadata": {},
     "output_type": "execute_result"
    }
   ],
   "source": [
    "round(234.234812312854, 3)"
   ]
  },
  {
   "cell_type": "markdown",
   "metadata": {},
   "source": [
    "Veja outro exemplo."
   ]
  },
  {
   "cell_type": "code",
   "execution_count": 52,
   "metadata": {},
   "outputs": [
    {
     "name": "stdout",
     "output_type": "stream",
     "text": [
      "O valor de cada parcela será de R$ 121.07\n"
     ]
    }
   ],
   "source": [
    "valor = 1573.90\n",
    "num_parcelas = 13\n",
    "print('O valor de cada parcela será de R$ ' + str(round(valor/num_parcelas, 2)))"
   ]
  },
  {
   "cell_type": "markdown",
   "metadata": {},
   "source": [
    "### Formatação de texto\n",
    "\n",
    "Para mais informações sobre formatação de número ou texto, consulte a página [https://pyformat.info/](https://pyformat.info/)."
   ]
  },
  {
   "cell_type": "markdown",
   "metadata": {},
   "source": [
    "# Exercícios"
   ]
  },
  {
   "cell_type": "markdown",
   "metadata": {},
   "source": [
    "---\n",
    "\n",
    "### Exercício <span class=\"exec\"></span>: parcelas sem juros II\n",
    "\n",
    "Escreva um programa que auxilia uma loja na hora de fazer uma venda. Seu programa deve:\n",
    "\n",
    "* perguntar o preço do produto;\n",
    "* perguntar o número de parcelas em que o cliente deseja pagar (sem juros);\n",
    "* mostrar quanto será o valor de uma parcela.\n",
    "\n",
    "Obs.: lembre-se de digitar os número com ponto (como 18.50 ao invés de 18,50)."
   ]
  },
  {
   "cell_type": "code",
   "execution_count": 9,
   "metadata": {},
   "outputs": [
    {
     "name": "stdout",
     "output_type": "stream",
     "text": [
      "Qual o preço do produto: R$1200\n",
      "Qual o número de parceças em que deseja pagar12\n",
      "O valor de cada parcela será de R$ 100.0\n"
     ]
    }
   ],
   "source": [
    "Preço = int(input('Qual o preço do produto: R$'))\n",
    "Parcelas = int(input('Qual o número de parceças em que deseja pagar'))\n",
    "print('O valor de cada parcela será de R$' , (round(Preço/Parcelas,2)))\n"
   ]
  },
  {
   "cell_type": "markdown",
   "metadata": {},
   "source": [
    "---\n",
    "\n",
    "### Exercício <span class=\"exec\"></span>: autonomia\n",
    "\n",
    "Faça um programa que pergunta ao usuário pela capacidade do tanque de gasolina do carro (em litros), depois pelo consumo de gasolina (em km/l). Depois, seu programa deve mostrar a autonomia do carro com o tanque cheio, ou seja, quantos kilômetros ele consegue viajar com o tanque cheio até parar."
   ]
  },
  {
   "cell_type": "code",
   "execution_count": 11,
   "metadata": {},
   "outputs": [
    {
     "name": "stdout",
     "output_type": "stream",
     "text": [
      "Qual a capacidade do tanque de gasolina do seu carro em litros?10\n",
      "Qual é o consumo de gasolina em Km/L do seu carro?10\n",
      "A autonomia do carro com o tanque cheio é de:\n"
     ]
    },
    {
     "data": {
      "text/plain": [
       "(None, 100)"
      ]
     },
     "execution_count": 11,
     "metadata": {},
     "output_type": "execute_result"
    }
   ],
   "source": [
    "Capacidade = int(input('Qual a capacidade do tanque de gasolina do seu carro em litros?'))\n",
    "Consumo = int(input('Qual é o consumo de gasolina em Km/L do seu carro?'))\n",
    "print('A autonomia do carro com o tanque cheio é de:') , (round(Consumo*Capacidade))"
   ]
  },
  {
   "cell_type": "markdown",
   "metadata": {},
   "source": [
    "---\n",
    "\n",
    "### Exercício <span class=\"exec\"></span>: área do triângulo\n",
    "\n",
    "Faça um programa para calcular a área de um triângulo. Seu programa deve pedir para o usuário digitar o comprimento da base e depois a altura, e seu programa diz qual a área de um triângulo com tais parâmetros."
   ]
  },
  {
   "cell_type": "code",
   "execution_count": 20,
   "metadata": {},
   "outputs": [
    {
     "name": "stdout",
     "output_type": "stream",
     "text": [
      "Qual o comprimento da base10\n",
      "Qual a altura do trinângulo10\n",
      "Área é: 50\n"
     ]
    }
   ],
   "source": [
    "Comprimento = int(input('Qual o comprimento da base'))\n",
    "Altura = int(input('Qual a altura do trinângulo'))\n",
    "print('Área é:' , (round(Comprimento*Altura/2)))"
   ]
  },
  {
   "cell_type": "markdown",
   "metadata": {},
   "source": [
    "---\n",
    "\n",
    "### Exercício <span class=\"exec\"></span>: média ponderada\n",
    "\n",
    "Faça um programa que \n",
    "\n",
    "* pergunta a um aluno quanto ele tirou na P1, depois quanto ele tirou na P2; e\n",
    "* mostra na saída a média ponderada, considerando que o peso da P1 é 2.5 e o peso da P2 é 4.0 (portanto a soma dos pesos é 6.5)."
   ]
  },
  {
   "cell_type": "code",
   "execution_count": 21,
   "metadata": {},
   "outputs": [
    {
     "name": "stdout",
     "output_type": "stream",
     "text": [
      "Qual a sua nota na p1?6\n",
      "Qual a sua nota na p210\n",
      "Nota: 10\n"
     ]
    }
   ],
   "source": [
    "P1 = int(input('Qual a sua nota na p1?'))\n",
    "p2 = int(input('Qual a sua nota na p2'))\n",
    "print('Nota:' , (round ((p1*2.5+p2*4.0)/6.5)))"
   ]
  },
  {
   "cell_type": "markdown",
   "metadata": {},
   "source": [
    "---\n",
    "\n",
    "### Exercício <span class=\"exec\"></span>: volume do cilíndro\n",
    "\n",
    "Peça ao usuário para digitar dois números: o raio $r$ da base do cilindro e sua altura $h$, um por vez. Depois mostre na tela o volume do cilindro, que pode ser calculado com a fórmula\n",
    "\n",
    "$$ V = \\pi r^2 h. $$\n",
    "\n",
    "Use o valor 3.1415926 para aproximar $\\pi$."
   ]
  },
  {
   "cell_type": "code",
   "execution_count": 22,
   "metadata": {},
   "outputs": [
    {
     "name": "stdout",
     "output_type": "stream",
     "text": [
      "Qual o raio da base do cilindro?20\n",
      "Qual a altura do cilindro?40\n",
      "Volume 50265\n"
     ]
    }
   ],
   "source": [
    "Raio = int(input('Qual o raio da base do cilindro?'))\n",
    "Altura = int(input('Qual a altura do cilindro?'))\n",
    "print('Volume' , (round((3.1415926*Raio**2)*Altura)))"
   ]
  },
  {
   "cell_type": "markdown",
   "metadata": {},
   "source": [
    "---\n",
    "\n",
    "### Exercício <span class=\"exec\"></span>: volume da esfera\n",
    "\n",
    "O cálculo do volume de uma esfera de raio $R$ é feito pela fórmula\n",
    "\n",
    "$$ V = \\frac{4 \\pi R^3}{3}. $$\n",
    "\n",
    "Faça um programa que pergunta ao usuário por um número positivo $R$ e que calcula e depois mostra na tela o volume de uma esfera de raio $R$.\n",
    "\n",
    "Use o valor 3.1415926 para aproximar $\\pi$."
   ]
  },
  {
   "cell_type": "code",
   "execution_count": 2,
   "metadata": {},
   "outputs": [
    {
     "name": "stdout",
     "output_type": "stream",
     "text": [
      "Escolha um número positivo2\n",
      "Volume 34\n"
     ]
    }
   ],
   "source": [
    "Número = int(input('Escolha um número positivo'))\n",
    "print('Volume',(round((4*3.1415926*Número**3)/3)))\n"
   ]
  },
  {
   "cell_type": "markdown",
   "metadata": {},
   "source": [
    "\n",
    "---\n",
    "\n",
    "### Exercício <span class=\"exec\"></span>: poupança\n",
    "\n",
    "Um investidor depositou uma quantia na poupança, que rende $p$ porcento ao mês. Ajude o investidor a calcular quanto ele terá depois de alguns meses. \n",
    "\n",
    "Seu programa deve:\n",
    "\n",
    "* perguntar pela quantia $d$ de dinheiro depositada na poupança;\n",
    "* perguntar pela taxa $p$ de rendimento da poupança;\n",
    "* perguntar pelo numero $t$ de meses que o dinheiro ficará rendendo;\n",
    "* mostrar o montante de dinheiro na poupança após os $t$ meses.\n",
    "\n",
    "Lembre-se que a quantia $D$ após $t$ meses pode ser calculada por\n",
    "\n",
    "$$ D = d\\Big(1 + \\frac{p}{100}\\Big)^t. $$"
   ]
  },
  {
   "cell_type": "code",
   "execution_count": 11,
   "metadata": {},
   "outputs": [
    {
     "ename": "SyntaxError",
     "evalue": "unexpected character after line continuation character (<ipython-input-11-9c3003b738d8>, line 4)",
     "output_type": "error",
     "traceback": [
      "\u001b[0;36m  File \u001b[0;32m\"<ipython-input-11-9c3003b738d8>\"\u001b[0;36m, line \u001b[0;32m4\u001b[0m\n\u001b[0;31m    print('Montante', (round((D\\Big(1+\\frac{p}{100}\\Big)^T))\u001b[0m\n\u001b[0m                                                            ^\u001b[0m\n\u001b[0;31mSyntaxError\u001b[0m\u001b[0;31m:\u001b[0m unexpected character after line continuation character\n"
     ]
    }
   ],
   "source": [
    "D=int(input('Qual a quantia de dinheiro depositada na poupança?'))\n",
    "P=int(input('Qual a taxa de rendimento da sua poupança?'))\n",
    "T=int(input('Qual o número de meses que o dinheiro ficará rendendo?'))\n",
    "print('Montante', (round((D\\Big(1+\\frac{p}{100}\\Big)^T))\n",
    "                "
   ]
  },
  {
   "cell_type": "markdown",
   "metadata": {},
   "source": [
    "---\n",
    "\n",
    "### Exercício <span class=\"exec\"></span>: Avaliação de polinômio\n",
    "\n",
    "Faça um programa que leia um número real $x_0$ e imprima como saída o valor do seguinte polinômio avaliado em $X_0$.\n",
    "\n",
    "$$-x^6 + x^4 + 3x^3 - 4x^2 - 9$$\n",
    "\n",
    "Use a menor quantidade possível de operações aritméticas.\n",
    "\n"
   ]
  },
  {
   "cell_type": "code",
   "execution_count": 18,
   "metadata": {},
   "outputs": [
    {
     "ename": "SyntaxError",
     "evalue": "invalid syntax (<ipython-input-18-59a54d36049a>, line 2)",
     "output_type": "error",
     "traceback": [
      "\u001b[0;36m  File \u001b[0;32m\"<ipython-input-18-59a54d36049a>\"\u001b[0;36m, line \u001b[0;32m2\u001b[0m\n\u001b[0;31m    print('Polinômio',round(-x**6+x**4+3^3*3-4x^2-9))\u001b[0m\n\u001b[0m                                              ^\u001b[0m\n\u001b[0;31mSyntaxError\u001b[0m\u001b[0;31m:\u001b[0m invalid syntax\n"
     ]
    }
   ],
   "source": [
    "X = int(input('escolha um número real'))\n",
    "print('Polinômio',round(-x**6+x**4+3^3*3-4x^2-9))"
   ]
  },
  {
   "cell_type": "markdown",
   "metadata": {},
   "source": [
    "---\n",
    "\n",
    "### Exercício <span class=\"exec\"></span>: horas, minutos e segundos\n",
    "\n",
    "O cliente de uma empresa gostaria de um programa que convertesse uma quantidade $S$ de segundos em horas, minutos e segundos. Faça esse programa.\n",
    "\n",
    "**Dica:** use os operadores de divisão inteira `//` e resto `%`."
   ]
  },
  {
   "cell_type": "code",
   "execution_count": null,
   "metadata": {},
   "outputs": [],
   "source": [
    "S = int(input('Escolha os segundos'))\n",
    "print('Minutos',round(S/60))\n",
    "print('Horas',round(S/3600))\n"
   ]
  },
  {
   "cell_type": "markdown",
   "metadata": {},
   "source": [
    "---\n",
    "\n",
    "### Exercício <span class=\"exec\"></span>: troco\n",
    "\n",
    "Você é comerciante e identificou um problema muito comum: uma pessoa compra um produto de sua loja mas, na hora de passar o cartão dela na maquininha, o caixa cobra $C \\geq 0$ centavos a mais do que deveria e agora precisa dar o troco. Sua loja só trabalha com moedas ou cartão, então o cliente tem direito a receber _em moedas_ a quantidade $C$ de centavos que excedeu o preço da compra. Você quer dar ao cliente o número mínimo de moedas para trocar o valor $C$.\n",
    "\n",
    "Por exemplo, se o caixa cobrou 573 centavos a mais no cartão, o cliente tem direito a receber\n",
    "\n",
    "    5 moeda(s) de  1 real\n",
    "    1 moeda(s) de 50 centavos\n",
    "    0 moeda(s) de 25 centavos\n",
    "    2 moeda(s) de 10 centavos\n",
    "    0 moeda(s) de  5 centavos\n",
    "    3 moeda(s) de  1 centavo\n",
    "\n",
    "Faça um programa para ajudá-lo nesta tarefa:\n",
    "\n",
    "* pergunte ao usuário pela quantidade `C` de centavos que deve ser trocada;\n",
    "* mostre ao usuário quais moedas de cada denominação devem ser devolvidas ao cliente em um troco mínimo.\n",
    "\n",
    "**Dica:** use os operadores de divisão inteira `//` e resto `%`."
   ]
  },
  {
   "cell_type": "code",
   "execution_count": null,
   "metadata": {
    "collapsed": true
   },
   "outputs": [],
   "source": []
  },
  {
   "cell_type": "markdown",
   "metadata": {},
   "source": [
    "<span style=\"color: red;\">Execute a célula abaixo para melhorar a aparência deste _notebook_. </span>"
   ]
  },
  {
   "cell_type": "code",
   "execution_count": null,
   "metadata": {
    "init_cell": true
   },
   "outputs": [],
   "source": [
    "%%html\n",
    "<style>\n",
    ".rendered_html h1 {\n",
    "    background-color: #555;\n",
    "    color: white;\n",
    "    padding: .5em;\n",
    "    // border-bottom: 2px solid #000;\n",
    "    // padding-bottom: .6em;\n",
    "    margin-bottom: 1em;\n",
    "}\n",
    "\n",
    ".rendered_html h1 code {\n",
    "    color: #EBB7C5;\n",
    "    background-color: rgba(0,0,0,0);\n",
    "}\n",
    "\n",
    ".rendered_html h2 {\n",
    "    border-bottom: 1px solid #333;\n",
    "    padding-bottom: .6em;\n",
    "}\n",
    "                                      \n",
    ".rendered_html h3 {\n",
    "    color: #034f84;\n",
    "}\n",
    "\n",
    ".rendered_html code  {\n",
    "    padding: 2px 4px;\n",
    "    font-size: 90%;\n",
    "    color: #c7254e;\n",
    "    background-color: #f9f2f4;\n",
    "    border-radius: 4px;\n",
    "}\n",
    "\n",
    ".rendered_html pre code {\n",
    "    padding: 0px;\n",
    "    font-size: 90%;\n",
    "    color: #c7254e;\n",
    "    background-color: rgba(0, 0, 0, 0);\n",
    "}\n",
    "\n",
    "kbd {\n",
    "    border-radius: 3px;  \n",
    "    padding: 2px, 3px;\n",
    "}\n",
    "\n",
    "body {\n",
    "    counter-reset: h1counter excounter;\n",
    "}\n",
    "h1:before {\n",
    "    content: counter(h1counter) \".\\0000a0\\0000a0\";\n",
    "    counter-increment: h1counter;\n",
    "}\n",
    "span.exec:before {\n",
    "    content: counter(excounter);\n",
    "    counter-increment: excounter;\n",
    "}\n",
    "\n",
    "</style>  \n",
    "<script>\n",
    "location.hash = \"#homesweethome\";\n",
    "</script>"
   ]
  },
  {
   "cell_type": "code",
   "execution_count": 32,
   "metadata": {},
   "outputs": [
    {
     "name": "stdout",
     "output_type": "stream",
     "text": [
      "Qual a quantia em dinheiro depositada em sua poupança,senhor(a)1000\n",
      "Qual a taxa de rendimento de sua poupança?10\n",
      "Qual a quantidade de meses que seu dinheiro ficará rendendo?2\n",
      "montante 1200\n"
     ]
    }
   ],
   "source": [
    "d=int(input('Qual a quantia em dinheiro depositada em sua poupança,senhor(a)'))\n",
    "p=int(input('Qual a taxa de rendimento de sua poupança?'))\n",
    "t=int(input('Qual a quantidade de meses que seu dinheiro ficará rendendo?'))\n",
    "print('montante',round(d+d*p/100*t))   "
   ]
  },
  {
   "cell_type": "code",
   "execution_count": 31,
   "metadata": {},
   "outputs": [
    {
     "name": "stdout",
     "output_type": "stream",
     "text": [
      "Qual a quantia em dinheiro depositada em sua poupança,senhor(a)1000\n",
      "Qual a taxa de rendimento de sua poupança?10\n",
      "Qual a quantidade de meses que seu dinheiro ficará rendendo?2\n",
      "montante 1200\n"
     ]
    }
   ],
   "source": [
    "d=int(input('Qual a quantia em dinheiro depositada em sua poupança,senhor(a)'))\n",
    "p=int(input('Qual a taxa de rendimento de sua poupança?'))\n",
    "t=int(input('Qual a quantidade de meses que seu dinheiro ficará rendendo?'))\n",
    "print('montante',round((d*p/100*t)+d))"
   ]
  }
 ],
 "metadata": {
  "kernelspec": {
   "display_name": "Python 3",
   "language": "python",
   "name": "python3"
  },
  "language_info": {
   "codemirror_mode": {
    "name": "ipython",
    "version": 3
   },
   "file_extension": ".py",
   "mimetype": "text/x-python",
   "name": "python",
   "nbconvert_exporter": "python",
   "pygments_lexer": "ipython3",
   "version": "3.6.6"
  }
 },
 "nbformat": 4,
 "nbformat_minor": 1
}
