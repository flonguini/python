{
 "cells": [
  {
   "cell_type": "markdown",
   "metadata": {},
   "source": [
    "<div id=\"homesweethome\"></div>\n",
    "\n",
    "<div style=\"width: 100%; text-align: center; color: white; background-color: #222; font-size: 3em; font-weight: 700; padding: .5em .5em .6em .5em; line-height: 1.4em;\">Programação em Python para Iniciantes</div>\n",
    "\n",
    "<br>\n",
    "\n",
    "<div style=\"width: 100%; text-align: center; color: white; background-color: #555; font-size: 2.2em; font-weight: 700; padding: .5em .5em .6em .5em; line-height: 0.9em;\">Estruturas de repetição I - Laço for</div>\n",
    "\n",
    "<br>\n",
    "\n",
    "Nesta unidade, você vai aprender como fazer para executar um trecho do seu programa várias vezes automaticamente.\n",
    "\n",
    "Isso é muito útil quando o problema que estamos tentando resolver envolve tarefas repetitivas!\n",
    "\n",
    "<span style=\"color: red;\">Lembre-se: Execute a última célula para melhorar a aparência deste <i>notebook</i>.</span>"
   ]
  },
  {
   "cell_type": "markdown",
   "metadata": {},
   "source": [
    "<hr>\n",
    "## Introdução\n",
    "\n",
    "Vamos começar com um exemplo bem simples: suponha que você queira imprimir os números de **1** a **5**. \n",
    "\n",
    "Você poderia fazer:"
   ]
  },
  {
   "cell_type": "code",
   "execution_count": 1,
   "metadata": {},
   "outputs": [
    {
     "name": "stdout",
     "output_type": "stream",
     "text": [
      "1\n",
      "2\n",
      "3\n",
      "4\n",
      "5\n"
     ]
    }
   ],
   "source": [
    "print(1)\n",
    "print(2)\n",
    "print(3)\n",
    "print(4)\n",
    "print(5)"
   ]
  },
  {
   "cell_type": "markdown",
   "metadata": {},
   "source": [
    "ou também"
   ]
  },
  {
   "cell_type": "code",
   "execution_count": 2,
   "metadata": {},
   "outputs": [
    {
     "name": "stdout",
     "output_type": "stream",
     "text": [
      "1 2 3 4 5\n"
     ]
    }
   ],
   "source": [
    "print(1,2,3,4,5)"
   ]
  },
  {
   "cell_type": "markdown",
   "metadata": {},
   "source": [
    "Agora, e se você quisesse imprimir os números de **1** a **1000**?\n",
    "\n",
    "Tudo bem, imprimir os números de **1** a **1000** com um monte de linhas `print()` é muito tedioso, mas também seria possível.\n",
    "\n",
    "O problema complica mesmo se você quisesse imprimir os números de **1** a <b>$n$</b>, onde $n$ é um número que você obteve do usuário através de uma chamada do `input()`. \n",
    "\n",
    "Com os recursos da linguagem que aprendemos até o momento, isso não seria possíve\n",
    "\n",
    "Para lidar com situações que exigem repetição de tarefas, as linguagens de programação possuem estruturas de repetição (também chamadas de _laços_) como o comando **`for`** e o comando **`while`**.\n",
    "\n",
    "Veja a seguir como você pode fazer para imprimir os números de 1 a 5 com o comando **`for`**:"
   ]
  },
  {
   "cell_type": "code",
   "execution_count": 3,
   "metadata": {},
   "outputs": [
    {
     "name": "stdout",
     "output_type": "stream",
     "text": [
      "1\n",
      "2\n",
      "3\n",
      "4\n",
      "5\n"
     ]
    }
   ],
   "source": [
    "for n in [1, 2, 3, 4, 5]:\n",
    "    print(n)"
   ]
  },
  {
   "cell_type": "markdown",
   "metadata": {},
   "source": [
    "O que exatamente o nosso código está fazendo? O corpo do laço **`for`** é repetido cinco vezes e antes de cada repetição a variável **`n`** recebe cada um dos elementos da lista. Execute o código a seguir para ver uma animação:"
   ]
  },
  {
   "cell_type": "code",
   "execution_count": 4,
   "metadata": {},
   "outputs": [
    {
     "data": {
      "text/html": [
       "<iframe width=\"420\" height=\"315\" src=\"https://www.youtube.com/embed/9h_5HYvmL44\"></iframe>"
      ],
      "text/plain": [
       "<IPython.core.display.HTML object>"
      ]
     },
     "execution_count": 4,
     "metadata": {},
     "output_type": "execute_result"
    }
   ],
   "source": [
    "# Código para rodar vídeo\n",
    "from IPython.display import HTML\n",
    "HTML('<iframe width=\"420\" height=\"315\" src=\"https://www.youtube.com/embed/9h_5HYvmL44\"></iframe>')"
   ]
  },
  {
   "cell_type": "markdown",
   "metadata": {},
   "source": [
    "<hr> \n",
    "\n",
    "### Exercício <span class=\"exec\"></span>: Tabuada\n",
    "\n",
    "Modifique o código abaixo para pedir para o usuário digitar um número real R e imprimir a tabuada de R.\n"
   ]
  },
  {
   "cell_type": "code",
   "execution_count": 5,
   "metadata": {},
   "outputs": [
    {
     "name": "stdout",
     "output_type": "stream",
     "text": [
      "Escolha um valor real R5\n",
      "0 x 5.0 = 0.0\n",
      "1 x 5.0 = 5.0\n",
      "2 x 5.0 = 10.0\n",
      "3 x 5.0 = 15.0\n",
      "4 x 5.0 = 20.0\n",
      "5 x 5.0 = 25.0\n",
      "6 x 5.0 = 30.0\n",
      "7 x 5.0 = 35.0\n",
      "8 x 5.0 = 40.0\n",
      "9 x 5.0 = 45.0\n",
      "10 x 5.0 = 50.0\n"
     ]
    }
   ],
   "source": [
    "R=float(input('Escolha um valor real R'))\n",
    "if R==0:\n",
    "    print('o resultado é sempre 0')\n",
    "else:\n",
    "    for n in [0,1,2,3,4,5,6,7,8,9,10]:\n",
    "        print(n,'x',R,'=', R*n)"
   ]
  },
  {
   "cell_type": "markdown",
   "metadata": {},
   "source": [
    "<hr> \n",
    "\n",
    "### Exercício <span class=\"exec\"></span>: Tabuada estendida e aprimorada\n",
    "\n",
    "Escreva um programa que pede para o usuário digitar um número real R e imprime a tabuada de R de 1 até 100. Caso, o número R lido for zero seu programa deve mostrar uma mensagem apropriada.\n"
   ]
  },
  {
   "cell_type": "markdown",
   "metadata": {},
   "source": [
    "<hr>\n",
    "\n",
    "Antes de prosseguirmos com mais explicações sobre o comando **`for`**, vamos tentar entender o conceito de _lista_."
   ]
  },
  {
   "cell_type": "markdown",
   "metadata": {},
   "source": [
    "## Listas\n",
    "\n",
    "A expressão `[1, 2, 3, 4, 5]` é um exemplo de **lista**. Uma lista pode ter elementos de vários tipos.\n",
    "\n",
    "Veja o código abaixo."
   ]
  },
  {
   "cell_type": "code",
   "execution_count": 6,
   "metadata": {},
   "outputs": [
    {
     "data": {
      "text/plain": [
       "['papagaio', 'cachorro', True, 34]"
      ]
     },
     "execution_count": 6,
     "metadata": {},
     "output_type": "execute_result"
    }
   ],
   "source": [
    "['papagaio', 'cachorro', True, 34]"
   ]
  },
  {
   "cell_type": "markdown",
   "metadata": {},
   "source": [
    "Podemos usar uma variável para guardar uma lista de dados. Note que a lista não muda, somente a variável"
   ]
  },
  {
   "cell_type": "code",
   "execution_count": 7,
   "metadata": {},
   "outputs": [
    {
     "name": "stdout",
     "output_type": "stream",
     "text": [
      "Alice\n",
      "['Alice', 'Beto', 4, 35.2176, False]\n",
      "Beto\n",
      "['Alice', 'Beto', 4, 35.2176, False]\n",
      "4\n",
      "['Alice', 'Beto', 4, 35.2176, False]\n",
      "35.2176\n",
      "['Alice', 'Beto', 4, 35.2176, False]\n",
      "False\n",
      "['Alice', 'Beto', 4, 35.2176, False]\n"
     ]
    }
   ],
   "source": [
    "x = ['Alice', 'Beto', 4, 35.2176, False]\n",
    "for n in x:\n",
    "    print(n)\n",
    "    print(x)"
   ]
  },
  {
   "cell_type": "markdown",
   "metadata": {},
   "source": [
    "### Acessando uma posição específica\n",
    "\n",
    "Um elemento de uma lista pode ser acessado diretamente se soubermos sua posição (índice) na lista.\n",
    "\n",
    "Por exemplo, para acessar o primeiro elemento da lista `x` definida acima, podemos fazer"
   ]
  },
  {
   "cell_type": "code",
   "execution_count": 8,
   "metadata": {},
   "outputs": [
    {
     "data": {
      "text/plain": [
       "'Alice'"
      ]
     },
     "execution_count": 8,
     "metadata": {},
     "output_type": "execute_result"
    }
   ],
   "source": [
    "x[0]"
   ]
  },
  {
   "cell_type": "code",
   "execution_count": 9,
   "metadata": {},
   "outputs": [
    {
     "data": {
      "text/plain": [
       "'Beto'"
      ]
     },
     "execution_count": 9,
     "metadata": {},
     "output_type": "execute_result"
    }
   ],
   "source": [
    "x[1]"
   ]
  },
  {
   "cell_type": "markdown",
   "metadata": {
    "collapsed": true
   },
   "source": [
    "Repare que o primeiro elemento se encontra na posição 0, o segundo elemento, na posição 1, e assim por diante...\n",
    "\n",
    "Se uma lista `x` contém 100 elementos, então os índices variam de 0 a 99. \n",
    "\n",
    "Mais em geral, se uma lista `x` contém $n$ elementos, então os índices variam de 0 a $n-1$. \n",
    "\n",
    "<hr>\n",
    "\n",
    "Note que podemos alterar o valor em qualquer posição de uma lista armazenada na variável `x`:"
   ]
  },
  {
   "cell_type": "code",
   "execution_count": 10,
   "metadata": {},
   "outputs": [],
   "source": [
    "x[0] = 10.20"
   ]
  },
  {
   "cell_type": "code",
   "execution_count": 11,
   "metadata": {},
   "outputs": [
    {
     "name": "stdout",
     "output_type": "stream",
     "text": [
      "[10.2, 'Beto', 4, 35.2176, False]\n"
     ]
    }
   ],
   "source": [
    "print(x)"
   ]
  },
  {
   "cell_type": "markdown",
   "metadata": {
    "collapsed": true
   },
   "source": [
    "Se você tentar acessar (para leitura ou escrita) o valor de uma posição não existente, o interpretador do Python gera um erro de execução.\n",
    "\n",
    "No exemplo a seguir, o programa tenta escrever na posição 20 da lista `x`. Como `x` só tem 7 elementos, você receberá uma mensagem de erro ao tentar executar o código. Veja:"
   ]
  },
  {
   "cell_type": "code",
   "execution_count": 12,
   "metadata": {},
   "outputs": [
    {
     "ename": "IndexError",
     "evalue": "list assignment index out of range",
     "output_type": "error",
     "traceback": [
      "\u001b[1;31m---------------------------------------------------------------------------\u001b[0m",
      "\u001b[1;31mIndexError\u001b[0m                                Traceback (most recent call last)",
      "\u001b[1;32m<ipython-input-12-063e783254f5>\u001b[0m in \u001b[0;36m<module>\u001b[1;34m()\u001b[0m\n\u001b[1;32m----> 1\u001b[1;33m \u001b[0mx\u001b[0m\u001b[1;33m[\u001b[0m\u001b[1;36m20\u001b[0m\u001b[1;33m]\u001b[0m \u001b[1;33m=\u001b[0m \u001b[1;36m17\u001b[0m\u001b[1;33m\u001b[0m\u001b[0m\n\u001b[0m",
      "\u001b[1;31mIndexError\u001b[0m: list assignment index out of range"
     ]
    }
   ],
   "source": [
    "x[20] = 17"
   ]
  },
  {
   "cell_type": "markdown",
   "metadata": {},
   "source": [
    "### Comprimento da lista"
   ]
  },
  {
   "cell_type": "markdown",
   "metadata": {},
   "source": [
    "O comprimento de uma lista pode ser consultado via a função `len()`. Veja:"
   ]
  },
  {
   "cell_type": "code",
   "execution_count": null,
   "metadata": {},
   "outputs": [],
   "source": [
    "len(x)"
   ]
  },
  {
   "cell_type": "markdown",
   "metadata": {},
   "source": [
    "### Índices negativos\n",
    "\n",
    "Em Python, o último elemento de uma lista pode ser acessado pelo índice -1. Veja:"
   ]
  },
  {
   "cell_type": "code",
   "execution_count": null,
   "metadata": {},
   "outputs": [],
   "source": [
    "x[-1]"
   ]
  },
  {
   "cell_type": "markdown",
   "metadata": {},
   "source": [
    "O penúltimo elemento pelo índice -2 e assim por diante:"
   ]
  },
  {
   "cell_type": "code",
   "execution_count": null,
   "metadata": {},
   "outputs": [],
   "source": [
    "x[-2]"
   ]
  },
  {
   "cell_type": "code",
   "execution_count": null,
   "metadata": {},
   "outputs": [],
   "source": [
    "x[-3]"
   ]
  },
  {
   "cell_type": "markdown",
   "metadata": {},
   "source": [
    "O que você acha que acontecerá ao executar a célula abaixo?"
   ]
  },
  {
   "cell_type": "code",
   "execution_count": null,
   "metadata": {},
   "outputs": [],
   "source": [
    "x[-20]"
   ]
  },
  {
   "cell_type": "markdown",
   "metadata": {},
   "source": [
    "### Pertinencia a uma lista\n",
    "\n",
    "Para testar se um elemento pertence a uma lista, podemos usar o operador `in`.\n",
    "\n",
    "Veja o exemplo:"
   ]
  },
  {
   "cell_type": "code",
   "execution_count": null,
   "metadata": {},
   "outputs": [],
   "source": [
    "2 in [1, 3, 5, 7, 9]"
   ]
  },
  {
   "cell_type": "code",
   "execution_count": null,
   "metadata": {},
   "outputs": [],
   "source": [
    "2 in ['Papagaio', 'Morcego', 2]"
   ]
  },
  {
   "cell_type": "code",
   "execution_count": 13,
   "metadata": {},
   "outputs": [
    {
     "name": "stdout",
     "output_type": "stream",
     "text": [
      "Escolha um valor real6\n",
      "6.0 pertence à lista [1, 2, 3, 4, 5, 6]\n"
     ]
    }
   ],
   "source": [
    "lista = [1, 2, 3, 4, 5, 6]\n",
    "x = float(input('Escolha um valor real'))\n",
    "if x in lista:\n",
    "    print(x, 'pertence à lista', lista)\n",
    "else:\n",
    "    print(x, 'não pertence à lista', lista)"
   ]
  },
  {
   "cell_type": "markdown",
   "metadata": {},
   "source": [
    "<hr>\n",
    "\n",
    "### Exercício <span class=\"exec\"></span>: Faça você mesmo\n",
    "\n",
    "Mude o programa da célula acima para perguntar o valor de `x` ao usuário. \n",
    "\n",
    "<hr>"
   ]
  },
  {
   "cell_type": "markdown",
   "metadata": {},
   "source": [
    "## Tuplas e Intervalos (_ranges_)\n",
    "\n",
    "Python tem ainda mais dois tipos de dados análogos às listas as tuplas e o tipo de dados chamado _range_.\n",
    "\n",
    "A diferença entre uma lista e uma tupla é que a última é uma lista imutável cujos elementos são escritos entre parênteses. \n",
    "\n",
    "Você não pode executar operações de adição nem remoção em uma tupla. Uma vez criada, ela não pode mais ser modificada.\n",
    "\n",
    "Você também não pode mudar o conteúdo de uma posição da tupla. Veja os exemplos abaixo, em particular note que a última célula gera um erro. Saiba mais sobre listas e tuplas no final deste notebook.\n"
   ]
  },
  {
   "cell_type": "code",
   "execution_count": 14,
   "metadata": {},
   "outputs": [
    {
     "data": {
      "text/plain": [
       "('a', 2, 5)"
      ]
     },
     "execution_count": 14,
     "metadata": {},
     "output_type": "execute_result"
    }
   ],
   "source": [
    "x = ('a', 2, 5)\n",
    "x"
   ]
  },
  {
   "cell_type": "code",
   "execution_count": 15,
   "metadata": {},
   "outputs": [
    {
     "data": {
      "text/plain": [
       "True"
      ]
     },
     "execution_count": 15,
     "metadata": {},
     "output_type": "execute_result"
    }
   ],
   "source": [
    "'a' in x"
   ]
  },
  {
   "cell_type": "code",
   "execution_count": 16,
   "metadata": {},
   "outputs": [
    {
     "data": {
      "text/plain": [
       "2"
      ]
     },
     "execution_count": 16,
     "metadata": {},
     "output_type": "execute_result"
    }
   ],
   "source": [
    "x[1]"
   ]
  },
  {
   "cell_type": "code",
   "execution_count": 17,
   "metadata": {},
   "outputs": [
    {
     "ename": "TypeError",
     "evalue": "'tuple' object does not support item assignment",
     "output_type": "error",
     "traceback": [
      "\u001b[1;31m---------------------------------------------------------------------------\u001b[0m",
      "\u001b[1;31mTypeError\u001b[0m                                 Traceback (most recent call last)",
      "\u001b[1;32m<ipython-input-17-d0da6f639f74>\u001b[0m in \u001b[0;36m<module>\u001b[1;34m()\u001b[0m\n\u001b[1;32m----> 1\u001b[1;33m \u001b[0mx\u001b[0m\u001b[1;33m[\u001b[0m\u001b[1;36m0\u001b[0m\u001b[1;33m]\u001b[0m \u001b[1;33m=\u001b[0m \u001b[1;36m1.2\u001b[0m\u001b[1;33m\u001b[0m\u001b[0m\n\u001b[0m",
      "\u001b[1;31mTypeError\u001b[0m: 'tuple' object does not support item assignment"
     ]
    }
   ],
   "source": [
    "x[0] = 1.2"
   ]
  },
  {
   "cell_type": "markdown",
   "metadata": {},
   "source": [
    "\n",
    " Um _range_ é uma tupla de números inteiros igualmente espaçados (como em uma progressão aritmética). A tradução mais comum para _range_ é \"intervalo\".\n",
    "\n",
    "Veja alguns exemplos mais comuns do uso de intervalos:"
   ]
  },
  {
   "cell_type": "code",
   "execution_count": 18,
   "metadata": {},
   "outputs": [],
   "source": [
    "x = range(1, 21)"
   ]
  },
  {
   "cell_type": "code",
   "execution_count": 19,
   "metadata": {},
   "outputs": [
    {
     "ename": "TypeError",
     "evalue": "'range' object does not support item assignment",
     "output_type": "error",
     "traceback": [
      "\u001b[1;31m---------------------------------------------------------------------------\u001b[0m",
      "\u001b[1;31mTypeError\u001b[0m                                 Traceback (most recent call last)",
      "\u001b[1;32m<ipython-input-19-c560e44199d7>\u001b[0m in \u001b[0;36m<module>\u001b[1;34m()\u001b[0m\n\u001b[1;32m----> 1\u001b[1;33m \u001b[0mx\u001b[0m\u001b[1;33m[\u001b[0m\u001b[1;36m1\u001b[0m\u001b[1;33m]\u001b[0m \u001b[1;33m=\u001b[0m \u001b[1;36m0\u001b[0m\u001b[1;33m\u001b[0m\u001b[0m\n\u001b[0m",
      "\u001b[1;31mTypeError\u001b[0m: 'range' object does not support item assignment"
     ]
    }
   ],
   "source": [
    "x[1] = 0"
   ]
  },
  {
   "cell_type": "code",
   "execution_count": 20,
   "metadata": {},
   "outputs": [
    {
     "name": "stdout",
     "output_type": "stream",
     "text": [
      "range(1, 21)\n"
     ]
    }
   ],
   "source": [
    "print(x)"
   ]
  },
  {
   "cell_type": "markdown",
   "metadata": {},
   "source": [
    "Para imprimir (mostrar na tela) a lista de valores nesse _range_, podemos converter o range para uma lista assim:"
   ]
  },
  {
   "cell_type": "code",
   "execution_count": 21,
   "metadata": {},
   "outputs": [
    {
     "data": {
      "text/plain": [
       "[1, 2, 3, 4, 5, 6, 7, 8, 9, 10, 11, 12, 13, 14, 15, 16, 17, 18, 19, 20]"
      ]
     },
     "execution_count": 21,
     "metadata": {},
     "output_type": "execute_result"
    }
   ],
   "source": [
    "list(x)"
   ]
  },
  {
   "cell_type": "markdown",
   "metadata": {},
   "source": [
    "Repare que `range(1, 21)` tem os números inteiros de 1 até 20 (mas não tem o 21).\n",
    "\n",
    "O primeiro argumento é o primeiro inteiro a ser incluido no intervalo.\n",
    "\n",
    "O segundo argumento é o **primeiro** inteiro fora do intervalo.\n",
    "\n",
    "Veja mais alguns exemplos:"
   ]
  },
  {
   "cell_type": "code",
   "execution_count": 22,
   "metadata": {},
   "outputs": [
    {
     "name": "stdout",
     "output_type": "stream",
     "text": [
      "[1, 2, 3, 4, 5]\n"
     ]
    }
   ],
   "source": [
    "intervalo = range(1, 6)\n",
    "print(list(intervalo))"
   ]
  },
  {
   "cell_type": "code",
   "execution_count": 23,
   "metadata": {},
   "outputs": [
    {
     "name": "stdout",
     "output_type": "stream",
     "text": [
      "1\n",
      "2\n",
      "3\n",
      "4\n",
      "5\n"
     ]
    }
   ],
   "source": [
    "for i in range(1, 6):\n",
    "    print(i)"
   ]
  },
  {
   "cell_type": "markdown",
   "metadata": {},
   "source": [
    "### Intervalos de $0$ a $n - 1$\n",
    "\n",
    "Quando programamos, é comum precisarmos do intervalo contendo todos os números inteiros de $0$ até $n - 1$.\n",
    "\n",
    "Em Python, podemos construir um intervalo desses passando um único argumento para o comando `range()`. Veja:"
   ]
  },
  {
   "cell_type": "code",
   "execution_count": 24,
   "metadata": {},
   "outputs": [
    {
     "data": {
      "text/plain": [
       "[0, 1, 2, 3, 4, 5, 6, 7, 8, 9]"
      ]
     },
     "execution_count": 24,
     "metadata": {},
     "output_type": "execute_result"
    }
   ],
   "source": [
    "n = 10\n",
    "list(range(n))"
   ]
  },
  {
   "cell_type": "markdown",
   "metadata": {},
   "source": [
    "Observe que `range(n)` é equivalente a `range(0, n)` e que, portanto, `range(n)` retorna um lista com os números de $0$ a $n-1$."
   ]
  },
  {
   "cell_type": "markdown",
   "metadata": {},
   "source": [
    "Veja mais um exemplo:"
   ]
  },
  {
   "cell_type": "code",
   "execution_count": 25,
   "metadata": {},
   "outputs": [
    {
     "name": "stdout",
     "output_type": "stream",
     "text": [
      "0\n",
      "1\n",
      "2\n",
      "3\n",
      "4\n",
      "5\n",
      "6\n",
      "7\n",
      "8\n",
      "9\n"
     ]
    }
   ],
   "source": [
    "for i in range(10):\n",
    "    print(i)"
   ]
  },
  {
   "cell_type": "markdown",
   "metadata": {},
   "source": [
    "O exemplo abaixo imprime apenas os números pares de 0 até 9:"
   ]
  },
  {
   "cell_type": "code",
   "execution_count": 26,
   "metadata": {},
   "outputs": [
    {
     "name": "stdout",
     "output_type": "stream",
     "text": [
      "0\n",
      "2\n",
      "4\n",
      "6\n",
      "8\n"
     ]
    }
   ],
   "source": [
    "for i in range(10):\n",
    "    if i % 2 == 0:\n",
    "        print(i)"
   ]
  },
  {
   "cell_type": "markdown",
   "metadata": {},
   "source": [
    "### Intervalos com saltos\n",
    "\n",
    "A função `range()` pode ser utilizada para gerar progressões aritméticas quaisquer.\n",
    "\n",
    "Por exemplo, considere o código acima que imprime os números pares de 0 a 9. \n",
    "\n",
    "Esses números formam uma progressão aritmética de razão 2. \n",
    "\n",
    "Podemos fazer isso passando um terceiro parâmetro à função `range()`. Veja:"
   ]
  },
  {
   "cell_type": "code",
   "execution_count": 27,
   "metadata": {},
   "outputs": [
    {
     "name": "stdout",
     "output_type": "stream",
     "text": [
      "0\n",
      "2\n",
      "4\n",
      "6\n",
      "8\n"
     ]
    }
   ],
   "source": [
    "for i in range(0, 10, 2):\n",
    "    print(i)"
   ]
  },
  {
   "cell_type": "code",
   "execution_count": 28,
   "metadata": {},
   "outputs": [
    {
     "data": {
      "text/plain": [
       "[0, 2, 4, 6, 8]"
      ]
     },
     "execution_count": 28,
     "metadata": {},
     "output_type": "execute_result"
    }
   ],
   "source": [
    "list(range(0, 10, 2))"
   ]
  },
  {
   "cell_type": "markdown",
   "metadata": {},
   "source": [
    "Podemos usar esse terceiro parâmetro para gerar intervalos decrescentes. Veja:"
   ]
  },
  {
   "cell_type": "code",
   "execution_count": 29,
   "metadata": {},
   "outputs": [
    {
     "data": {
      "text/plain": [
       "[10, 9, 8, 7, 6, 5, 4, 3, 2, 1]"
      ]
     },
     "execution_count": 29,
     "metadata": {},
     "output_type": "execute_result"
    }
   ],
   "source": [
    "list(range(10, 0, -1))"
   ]
  },
  {
   "cell_type": "markdown",
   "metadata": {},
   "source": [
    "Se quiser saber mais sobre listas e tuplas veja por exemplo o link http://turing.com.br/pydoc/2.7/tutorial/datastructures.html\n",
    "\n",
    "\n",
    "## O comando **`for`**\n",
    "\n",
    "Como você já deve ter percebido, o comando **`for`** faz com que uma variável receba, repetidamente, valores tomados de uma dada lista e, para cada um desses valores, executa o bloco de código indentado logo abaixo.\n",
    "\n",
    "A estrutura do comando **`for`** é a seguinte:\n",
    "\n",
    "\n",
    "    for variável in lista:\n",
    "        código indentado\n",
    "        código indentado\n",
    "        ...\n",
    "        código indentado\n",
    "        código indentado\n",
    "    código  após o for (não indentado)\n",
    "    \n",
    "Assim como no comando **`if`**, a primeira linha de código não indentada depois do comando marca o fim do bloco de código associado.\n",
    "        \n",
    "A lista de elementos no comando **`for`** pode ser substituida por uma tupla ou, o que mais comum, por um intervalo.\n",
    "        "
   ]
  },
  {
   "cell_type": "markdown",
   "metadata": {},
   "source": [
    "### Exemplo:\n",
    "\n",
    "O programa a seguir imprime os números de 2 até 10"
   ]
  },
  {
   "cell_type": "code",
   "execution_count": 31,
   "metadata": {},
   "outputs": [
    {
     "name": "stdout",
     "output_type": "stream",
     "text": [
      "10\n",
      "15\n",
      "20\n",
      "25\n",
      "30\n",
      "35\n",
      "40\n",
      "45\n",
      "50\n"
     ]
    }
   ],
   "source": [
    "for i in range(10, 51, 5):\n",
    "    print(i)"
   ]
  },
  {
   "cell_type": "markdown",
   "metadata": {},
   "source": [
    "<hr>\n",
    "\n",
    "### Exercício <span class=\"exec\"></span>: Múltiplos de 5 entre de 10 a 50\n",
    "\n",
    "Mude o código acima para que o programa imprima os números de 10 até 50 (inclusive) pulando de cinco em cinco.\n",
    "\n",
    "<hr>"
   ]
  },
  {
   "cell_type": "markdown",
   "metadata": {},
   "source": [
    "### Exemplo:\n",
    "\n",
    "Para cada número entre 1 e 10, o programa a seguir mostra o dobro desse número, o triplo, o quadrado e a raiz quadrada. "
   ]
  },
  {
   "cell_type": "code",
   "execution_count": 32,
   "metadata": {},
   "outputs": [
    {
     "name": "stdout",
     "output_type": "stream",
     "text": [
      "O dobro de 1 é 2\n",
      "O triplo de 1 é 3\n",
      "O quadrado de 1 é 1\n",
      "A raiz quadrada de 1 é 1.0\n",
      "-------------------------------------------\n",
      "O dobro de 2 é 4\n",
      "O triplo de 2 é 6\n",
      "O quadrado de 2 é 4\n",
      "A raiz quadrada de 2 é 1.4142135623730951\n",
      "-------------------------------------------\n",
      "O dobro de 3 é 6\n",
      "O triplo de 3 é 9\n",
      "O quadrado de 3 é 9\n",
      "A raiz quadrada de 3 é 1.7320508075688772\n",
      "-------------------------------------------\n",
      "O dobro de 4 é 8\n",
      "O triplo de 4 é 12\n",
      "O quadrado de 4 é 16\n",
      "A raiz quadrada de 4 é 2.0\n",
      "-------------------------------------------\n",
      "O dobro de 5 é 10\n",
      "O triplo de 5 é 15\n",
      "O quadrado de 5 é 25\n",
      "A raiz quadrada de 5 é 2.23606797749979\n",
      "-------------------------------------------\n",
      "O dobro de 6 é 12\n",
      "O triplo de 6 é 18\n",
      "O quadrado de 6 é 36\n",
      "A raiz quadrada de 6 é 2.449489742783178\n",
      "-------------------------------------------\n",
      "O dobro de 7 é 14\n",
      "O triplo de 7 é 21\n",
      "O quadrado de 7 é 49\n",
      "A raiz quadrada de 7 é 2.6457513110645907\n",
      "-------------------------------------------\n",
      "O dobro de 8 é 16\n",
      "O triplo de 8 é 24\n",
      "O quadrado de 8 é 64\n",
      "A raiz quadrada de 8 é 2.8284271247461903\n",
      "-------------------------------------------\n",
      "O dobro de 9 é 18\n",
      "O triplo de 9 é 27\n",
      "O quadrado de 9 é 81\n",
      "A raiz quadrada de 9 é 3.0\n",
      "-------------------------------------------\n",
      "O dobro de 10 é 20\n",
      "O triplo de 10 é 30\n",
      "O quadrado de 10 é 100\n",
      "A raiz quadrada de 10 é 3.1622776601683795\n",
      "-------------------------------------------\n"
     ]
    }
   ],
   "source": [
    "for n in range(1, 11):\n",
    "    print('O dobro de', n, 'é', 2*n)\n",
    "    print('O triplo de', n, 'é', 3*n)\n",
    "    print('O quadrado de', n, 'é', n**2)\n",
    "    print('A raiz quadrada de', n, 'é', n**(1/2))\n",
    "    print('-------------------------------------------')"
   ]
  },
  {
   "cell_type": "markdown",
   "metadata": {},
   "source": [
    "### Exemplo:\n",
    "\n",
    "Suponha que queremos calcular a soma dos números de $1$ a $n$.\n",
    "\n",
    "Por exemplo, se $n = 5$, queremos calcular:\n",
    "\n",
    "$$1 + 2 + 3 + 4 + 5 = 15.$$\n",
    "\n",
    "Na verdade, existe uma fórmula fechada para essa soma, mas suponha que queremos fazer isso usando o comando **`for`**:"
   ]
  },
  {
   "cell_type": "code",
   "execution_count": 34,
   "metadata": {},
   "outputs": [
    {
     "name": "stdout",
     "output_type": "stream",
     "text": [
      "De o valor de n: 2\n",
      "3\n"
     ]
    }
   ],
   "source": [
    "n = int(input(\"De o valor de n: \"))\n",
    "soma = 0\n",
    "for i in range(1, n + 1):\n",
    "    soma = soma + i\n",
    "print(soma)"
   ]
  },
  {
   "cell_type": "markdown",
   "metadata": {},
   "source": [
    "Você achou expressão&nbsp; `soma = soma + i` &nbsp;um pouco estranha?\n",
    "\n",
    "O que essa linha faz é o seguinte:\n",
    "\n",
    "1. calcula o valor de `soma + i`\n",
    "2. guarda o resultado na variável `soma`\n",
    "\n",
    "Ou seja, o novo valor da variável `soma` após a execução dessa linha é o valor antigo de `soma` mais o valor de `i`. Em outras palavras, ela significa `aumente em i o valor de soma`.\n",
    "\n",
    "No entanto, para que o resultado da soma seja correto, antes a váriavel deve inicializada de forma aprorpiada; neste caso em zero para não alterar o valor final. Por isso, sempre antes dum laço com uma expressão similar, devemos colocar uma linha com a inicialização da variável. No exemplo acima, é la linha 2 com `soma = 0`.\n",
    "\n",
    "A expressão&nbsp; `soma = soma + i` pode ser adaptada de várias formas por exemplo para contar, substrair ou multiplicar.\n",
    "\n",
    "O código abaixo traz uma situação análoga, execute-a e veja o que acontece. Insira mensagens de saída apropriadas."
   ]
  },
  {
   "cell_type": "code",
   "execution_count": 35,
   "metadata": {},
   "outputs": [
    {
     "name": "stdout",
     "output_type": "stream",
     "text": [
      "De o valor de n: 5\n",
      "O resultado da soma é 15\n",
      "Coloque aqui uma mensagem apropriada 5\n",
      "Coloque aqui uma mensagem apropriada 243\n",
      "Coloque aqui uma mensagem apropriada 90\n"
     ]
    }
   ],
   "source": [
    "n = int(input(\"De o valor de n: \"))\n",
    "soma = 0\n",
    "contador = 0\n",
    "produto = 1\n",
    "outro_contador = 100\n",
    "for i in range(1, n + 1):\n",
    "    soma = soma + i\n",
    "    contador = contador + 1\n",
    "    produto = produto * 3\n",
    "    outro_contador = outro_contador - 2\n",
    "print(\"O resultado da soma é\", soma)\n",
    "print(\"Coloque aqui uma mensagem apropriada\", contador)\n",
    "print(\"Coloque aqui uma mensagem apropriada\", produto)\n",
    "print(\"Coloque aqui uma mensagem apropriada\", outro_contador)"
   ]
  },
  {
   "cell_type": "markdown",
   "metadata": {},
   "source": [
    "<hr>\n",
    "\n",
    "### Exercício <span class=\"exec\"></span>: Soma de quadrados\n",
    "\n",
    "Abaixo, copiamos o código do exemplo que calcula $1 + 2 + \\cdots + n$.\n",
    "\n",
    "Modifique o código abaixo para calcular a soma dos quadrados dos números de $1$ até $n$. Ou seja, quando o usuário digitar um número $n$, o programa deverá mostrar o resultado da soma\n",
    "\n",
    "$$1^2 + 2^2 + 3^2 + \\cdots + n^2.$$\n",
    "\n",
    "Teste se seu código funciona: pára $n = 137$, seu programa deve devolver 866525"
   ]
  },
  {
   "cell_type": "code",
   "execution_count": 48,
   "metadata": {},
   "outputs": [
    {
     "name": "stdout",
     "output_type": "stream",
     "text": [
      "De o valor de n: 137\n",
      "866525\n"
     ]
    }
   ],
   "source": [
    "n = int(input(\"De o valor de n: \"))\n",
    "soma = 0\n",
    "for i in range(1, n + 1):\n",
    "    soma = (soma + i**2)\n",
    "print(soma)"
   ]
  },
  {
   "cell_type": "markdown",
   "metadata": {},
   "source": [
    "<hr>\n",
    "\n",
    "### Exercício <span class=\"exec\"></span>: Fatorial\n",
    "\n",
    "O _fatorial_ de um número natural $n$ é definido como\n",
    "\n",
    "$$n! = 1 \\times 2 \\times 3 \\times \\cdots \\times (n-2) \\times (n-1) \\times n.$$\n",
    "\n",
    "Em outras palvras é o produto de todos os inteiros de $2$ até $n$. \n",
    "\n",
    "Faça um programa que peça ao usuário um valor para $n$ e que mostra o valor de $n!$ na tela.\n",
    "\n",
    "Use a tabela a seguir para conferir se seu programa está correto.\n",
    ".\n",
    "\n",
    "\n",
    "| n  | n!                   |\n",
    "|:---|----------------------|\n",
    "| 5  | 120                  |\n",
    "| 7  | 5040                 |\n",
    "| 13 | 6227020800           |\n",
    "| 20 | 2432902008176640000  |\n",
    "| 21 | 51090942171709440000 |\n"
   ]
  },
  {
   "cell_type": "code",
   "execution_count": null,
   "metadata": {},
   "outputs": [],
   "source": [
    "n=int(input('escolha um valor de n'))\n",
    "soma=1\n",
    "for n in range(1,n*)"
   ]
  },
  {
   "cell_type": "markdown",
   "metadata": {},
   "source": [
    "<hr>\n",
    "\n",
    "### Exercício <span class=\"exec\"></span>: Par ou ímpar? I\n",
    "\n",
    "O código a seguir imprime os números de 1 a 10. Modifique **apenas** o bloco de código dentro do  **`for`** de modo que ele imprima o seguinte:</p>\n",
    "\n",
    "    1 é ímpar\n",
    "    2 é par \n",
    "    3 é ímpar\n",
    "    4 é par \n",
    "    5 é ímpar\n",
    "    etc. (até 10)\n",
    "\n",
    "**Dica:** use o comando **`if`** dentro do bloco de código do **`for`**."
   ]
  },
  {
   "cell_type": "code",
   "execution_count": 56,
   "metadata": {},
   "outputs": [
    {
     "name": "stdout",
     "output_type": "stream",
     "text": [
      "n é impar\n",
      "n é par\n",
      "n é impar\n",
      "n é par\n",
      "n é impar\n",
      "n é par\n",
      "n é impar\n",
      "n é par\n",
      "n é impar\n",
      "n é par\n"
     ]
    }
   ],
   "source": [
    "for n in range(1, 11):\n",
    "    if n%2==0:\n",
    "        print('n é par')\n",
    "    else:\n",
    "        print('n é impar')"
   ]
  },
  {
   "cell_type": "markdown",
   "metadata": {},
   "source": [
    "<hr>\n",
    "\n",
    "### Exercício <span class=\"exec\"></span>: Par ou ímpar? II\n",
    "\n",
    "Modifique o programa acima para o usuário digitar um inteiro $M > 0$. Depois seu programa deve pedir para o usuário digitar $M$ inteiros e mostrar para cada número digitado sé par ou ímpar. Para terminar o programa deve mostrar ao usuário a **quantidade** de números pares e ímpares ele digitou."
   ]
  },
  {
   "cell_type": "code",
   "execution_count": null,
   "metadata": {},
   "outputs": [],
   "source": []
  },
  {
   "cell_type": "markdown",
   "metadata": {},
   "source": [
    "<hr>\n",
    "\n",
    "### Exemplo: Controle de vendas\n",
    "\n",
    "O código a seguir pede que o usuário digite o número de vendas, depois pede o valor de cada venda e, finalmente, calcula e imprime o valor total das vendas."
   ]
  },
  {
   "cell_type": "code",
   "execution_count": null,
   "metadata": {},
   "outputs": [],
   "source": [
    "n = int(input(\"Qual o número de vendas? \"))\n",
    "total = 0.0\n",
    "for i in range(n):\n",
    "    valor = float(input(\"Qual o valor da venda? \"))\n",
    "    total = total + valor\n",
    "print(\"A total das vendas é:\", total)"
   ]
  },
  {
   "cell_type": "markdown",
   "metadata": {},
   "source": [
    "Podemos indicar para o usuário qual venda ele deve fornecer em cada momento.\n",
    "\n",
    "Preste atenção no que mudou no código a seguir e como isso afeta a execução:"
   ]
  },
  {
   "cell_type": "code",
   "execution_count": null,
   "metadata": {},
   "outputs": [],
   "source": [
    "n = int(input(\"Qual o número de vendas? \"))\n",
    "total = 0.0\n",
    "for i in range(n):\n",
    "    valor = float(input(\"Qual o valor da \" + str(i + 1) + \"ª venda? \"))\n",
    "    total = total + valor\n",
    "print(\"A total das vendas é:\", total)"
   ]
  },
  {
   "cell_type": "markdown",
   "metadata": {},
   "source": [
    "<hr>\n",
    "\n",
    "### Exercício <span class=\"exec\"></span>: Média das vendas\n",
    "\n",
    "Modifique o código acima para que, além do valor total das vendas, o programa imprima também o valor médio das vendas.\n",
    "\n",
    "Teste se seu código funciona: para valores 12.20, 15.30, 17.50, a média deve ser 15.0\n"
   ]
  },
  {
   "cell_type": "markdown",
   "metadata": {},
   "source": [
    "<hr>\n",
    "\n",
    "### Exercício <span class=\"exec\"></span>: Parabéns!\n",
    "\n",
    "Copiamos o código do exemplo anterior na célula abaixo.\n",
    "\n",
    "Modifique-o de modo que, toda vez que o usuário digitar uma venda de valor maior do que 100, o programa mostre &ndash; naquele mesmo momento &ndash; uma mensagem de parabéns para o vendedor.\n",
    "\n",
    "Faça com que seu programa conte quantas vendas ultrapassaram R$ 100 e, no final, imprima uma mensagem informando essa quantidade. Se essa quantidade foi maior do que 5, o programa deve imprimir a mensagem `\"As vendas foram excelentes!\"`. Além disso, se a média das vendas foi maior do que 100 o programa deve informar que o vendedor vai ganhar um aumento.\n",
    "\n",
    "**Obs:** Não é necessário usar listas para armazenar os valores das vendas."
   ]
  },
  {
   "cell_type": "code",
   "execution_count": null,
   "metadata": {},
   "outputs": [],
   "source": [
    "n = int(input(\"Qual o número de vendas? \"))\n",
    "total = 0.0\n",
    "for i in range(n):\n",
    "    valor = float(input(\"Qual o valor da venda? \"))\n",
    "    total = total + valor\n",
    "print(\"A total das vendas é:\", total)"
   ]
  },
  {
   "cell_type": "markdown",
   "metadata": {},
   "source": [
    "## Exercícios para casa"
   ]
  },
  {
   "cell_type": "markdown",
   "metadata": {},
   "source": [
    "<hr>\n",
    "\n",
    "### Exercício <span class=\"exec\"></span>: Divisores\n",
    "\n",
    "Faça um programa que pede ao usuário para digitar um número inteiro $n > 0$. Depois, seu programa deve mostrar todos os divisores de $n$. \n",
    "\n",
    "Exemplo: para $n = 2136$ seu programa deve mostrar os divisores 1, 2, 3, 4, 6, 8, 12, 24, 89, 178, 267, 356, 534, 712, 1068, 2136."
   ]
  },
  {
   "cell_type": "code",
   "execution_count": null,
   "metadata": {},
   "outputs": [],
   "source": []
  },
  {
   "cell_type": "markdown",
   "metadata": {},
   "source": [
    "<hr>\n",
    "\n",
    "### Exercício <span class=\"exec\"></span>: Soma de potências \n",
    "\n",
    "Escreva um programa que dado um valor de $n$ calcule a seguinte soma\n",
    "\n",
    "\n",
    "$$ 1 + 2^2 + 3^3 + 4^4 + \\dots + (n-1)^{n-1} + n^n $$\n",
    "\n",
    "**Obs**: Valide que o valor $n$ seja maior do que zero."
   ]
  },
  {
   "cell_type": "code",
   "execution_count": null,
   "metadata": {},
   "outputs": [],
   "source": []
  },
  {
   "cell_type": "markdown",
   "metadata": {},
   "source": [
    "<hr>\n",
    "\n",
    "### Exercício <span class=\"exec\"></span>: Soma de produtos \n",
    "\n",
    "Escreva um programa que dados $n$ pares ordenados $(x_1, y_1),(x_2, y_2),\\ldots,(x_{n-1}, y_{n-1}),(x_n, y_n)$, calcule \n",
    "\n",
    "$$ \\frac{\\sum_{i=1}^n x_i*y_i}{n-1} $$\n",
    "\n",
    "**Obs**: Valide que o valor $n$ seja maior do que um."
   ]
  },
  {
   "cell_type": "code",
   "execution_count": null,
   "metadata": {},
   "outputs": [],
   "source": []
  },
  {
   "cell_type": "markdown",
   "metadata": {},
   "source": [
    "<hr>\n",
    "\n",
    "### Exercício <span class=\"exec\"></span>: Números em ordem?\n",
    "\n",
    "Faça um programa que pergunte ao usuário para digitar um número inteiro positivo $n$. Em seguida, peça para ele digitar $n$ números racionais (_float_). Depois que o usuário terminar, seu programa deve e mostrar na tela a palavra \"_crescente_\" se os números positivos digitados pelo usuário estão em ordem crescente ou mostrar \"_não crescente_\" caso contrário.\n"
   ]
  },
  {
   "cell_type": "code",
   "execution_count": null,
   "metadata": {},
   "outputs": [],
   "source": []
  },
  {
   "cell_type": "markdown",
   "metadata": {},
   "source": [
    "### Exercício <span class=\"exec\"></span>: Aumento salarial II\n",
    "\n",
    "Uma empresa deseja fazer o aumento salarial de todos seus funcionários. Para isso, precisa saber se a metade dos lucros recebidos são suficientes para fazer esse aumento. Escreva um programa que leia o lucro mensal da empresa $L$  e o salário de cada um deos seus $M$ funcionários. Para calcular o aumento salarial dum funcionário usando a seguinte regra:\n",
    "\n",
    "* se 1.500,00 <= salarioAtual < 1.750,00: aumento igual a 12%\n",
    "* se 1.750,00 <= salarioAtual < 2.000,00: aumento igual a 10%\n",
    "* se 2.000,00 <= salarioAtual < 3.000,00: aumento igual a 7%\n",
    "* acima de 3.000,00: aumento igual a 5%. \n",
    "\n",
    "O programa deve determinar se a soma de todos os aumentos é menor que a metade dos lucros. Caso afirmativo o programa deve mostrar qual é o salário médio atual e qual será o salário médio após o aumento. Em outro caso, o programa deve mostrar uma mensagem de que não é possível o aumento salarial."
   ]
  },
  {
   "cell_type": "code",
   "execution_count": null,
   "metadata": {},
   "outputs": [],
   "source": []
  },
  {
   "cell_type": "markdown",
   "metadata": {},
   "source": [
    "## Mais sobre Listas e Tuplas\n",
    "\n",
    "### Acrescentando elementos numa lista\n",
    "\n",
    "Podemos adicionar elementos numa lista através do método `append()`."
   ]
  },
  {
   "cell_type": "code",
   "execution_count": null,
   "metadata": {},
   "outputs": [],
   "source": [
    "x.append('último')"
   ]
  },
  {
   "cell_type": "code",
   "execution_count": null,
   "metadata": {},
   "outputs": [],
   "source": [
    "print(x)"
   ]
  },
  {
   "cell_type": "code",
   "execution_count": null,
   "metadata": {},
   "outputs": [],
   "source": [
    "x.append('mais um')"
   ]
  },
  {
   "cell_type": "code",
   "execution_count": null,
   "metadata": {},
   "outputs": [],
   "source": [
    "print(x)"
   ]
  },
  {
   "cell_type": "markdown",
   "metadata": {},
   "source": [
    "Para aumentar uma lista com os elementos de outra lista, podemos usar o método `extend()`. "
   ]
  },
  {
   "cell_type": "code",
   "execution_count": null,
   "metadata": {},
   "outputs": [],
   "source": [
    "lista = [1, 2, 3, 4, 5]"
   ]
  },
  {
   "cell_type": "code",
   "execution_count": null,
   "metadata": {},
   "outputs": [],
   "source": [
    "lista.extend(['a', 'b', 'c'])"
   ]
  },
  {
   "cell_type": "code",
   "execution_count": null,
   "metadata": {},
   "outputs": [],
   "source": [
    "print(lista)"
   ]
  },
  {
   "cell_type": "markdown",
   "metadata": {},
   "source": [
    "### Removendo elementos de uma lista\n",
    "\n",
    "Há vários modos de se remover um elemento de uma lista. \n",
    "\n",
    "Neste curso, vamos dar preferência ao método `pop()`.\n",
    "\n",
    "Veja um exemplo."
   ]
  },
  {
   "cell_type": "code",
   "execution_count": null,
   "metadata": {},
   "outputs": [],
   "source": [
    "x.pop()"
   ]
  },
  {
   "cell_type": "code",
   "execution_count": null,
   "metadata": {},
   "outputs": [],
   "source": [
    "print(x)"
   ]
  },
  {
   "cell_type": "markdown",
   "metadata": {},
   "source": [
    "Repare que o método `pop()` faz duas coisas:\n",
    "\n",
    "1. remove o último elemento da lista (sobre a qual `pop()` foi chamada);\n",
    "2. devolve o valor do elemento removido.\n",
    "\n",
    "Veja mais uma vez:"
   ]
  },
  {
   "cell_type": "code",
   "execution_count": null,
   "metadata": {},
   "outputs": [],
   "source": [
    "lista = [5, 4, 3, 2, 1]"
   ]
  },
  {
   "cell_type": "code",
   "execution_count": null,
   "metadata": {},
   "outputs": [],
   "source": [
    "lista.pop()"
   ]
  },
  {
   "cell_type": "code",
   "execution_count": null,
   "metadata": {},
   "outputs": [],
   "source": [
    "print(lista)"
   ]
  },
  {
   "cell_type": "code",
   "execution_count": null,
   "metadata": {},
   "outputs": [],
   "source": [
    "lista.pop()"
   ]
  },
  {
   "cell_type": "code",
   "execution_count": null,
   "metadata": {},
   "outputs": [],
   "source": [
    "print(lista)"
   ]
  },
  {
   "cell_type": "code",
   "execution_count": null,
   "metadata": {},
   "outputs": [],
   "source": [
    "lista.pop()"
   ]
  },
  {
   "cell_type": "code",
   "execution_count": null,
   "metadata": {},
   "outputs": [],
   "source": [
    "print(lista)"
   ]
  },
  {
   "cell_type": "markdown",
   "metadata": {},
   "source": [
    "O método `pop()` pode &ndash; opcionalmente &ndash; receber um argumento que denota o índice do elemento a ser removido. \n",
    "\n",
    "Por exemplo, para remover o primeiro elemento de uma lista, podemos fazer `pop(0)`."
   ]
  },
  {
   "cell_type": "code",
   "execution_count": null,
   "metadata": {},
   "outputs": [],
   "source": [
    "lista = [5, 4, 3, 2, 1]"
   ]
  },
  {
   "cell_type": "code",
   "execution_count": null,
   "metadata": {},
   "outputs": [],
   "source": [
    "lista.pop(0)"
   ]
  },
  {
   "cell_type": "code",
   "execution_count": null,
   "metadata": {},
   "outputs": [],
   "source": [
    "lista"
   ]
  },
  {
   "cell_type": "markdown",
   "metadata": {},
   "source": [
    "Portanto, chamar o método `pop()` sem argumentos numa lista, equivale a chamar `pop(-1)`.\n",
    "\n",
    "<hr>\n",
    "\n",
    "Se você tem interesse em conhecer outros modos de remoção de elementos de uma lista em Python, pesquise pelo método `remove()`. Você pode pesquisar na internet ou usar a função `help()` do Python:"
   ]
  },
  {
   "cell_type": "code",
   "execution_count": null,
   "metadata": {},
   "outputs": [],
   "source": [
    "help(list.remove)"
   ]
  },
  {
   "cell_type": "markdown",
   "metadata": {},
   "source": [
    "### Concatenação de listas\n",
    "\n",
    "Em Python, listas podem ser \"grudadas\" com o operador `+`.\n",
    "\n",
    "Formalmente, essa operação é chamada de concatenação. Veja os exemplos:"
   ]
  },
  {
   "cell_type": "code",
   "execution_count": null,
   "metadata": {},
   "outputs": [],
   "source": [
    "A = [5, 4, 3, 2, 1]\n",
    "B = ['a', 'b', 'c']"
   ]
  },
  {
   "cell_type": "code",
   "execution_count": null,
   "metadata": {},
   "outputs": [],
   "source": [
    "B + A"
   ]
  },
  {
   "cell_type": "code",
   "execution_count": null,
   "metadata": {},
   "outputs": [],
   "source": [
    "A + B == B + A"
   ]
  },
  {
   "cell_type": "code",
   "execution_count": null,
   "metadata": {},
   "outputs": [],
   "source": [
    "A"
   ]
  },
  {
   "cell_type": "code",
   "execution_count": null,
   "metadata": {},
   "outputs": [],
   "source": [
    "B"
   ]
  },
  {
   "cell_type": "code",
   "execution_count": null,
   "metadata": {},
   "outputs": [],
   "source": [
    "C = A + B"
   ]
  },
  {
   "cell_type": "code",
   "execution_count": null,
   "metadata": {},
   "outputs": [],
   "source": [
    "C"
   ]
  },
  {
   "cell_type": "code",
   "execution_count": null,
   "metadata": {},
   "outputs": [],
   "source": [
    "D = A + ['.']"
   ]
  },
  {
   "cell_type": "code",
   "execution_count": null,
   "metadata": {},
   "outputs": [],
   "source": [
    "D"
   ]
  },
  {
   "cell_type": "markdown",
   "metadata": {},
   "source": [
    "### Sublistas\n",
    "\n",
    "É comum precisarmos trabalhar apenas com um pedaço de uma lista, isto é, com um subconjunto de elementos contíguos da lista original.\n",
    "\n",
    "Em Python, é muito fácil de extrair uma \"fatia\" de uma lista através do operador `:` dentro dos colchetes. \n",
    "\n",
    "Veja um exemplo:"
   ]
  },
  {
   "cell_type": "code",
   "execution_count": null,
   "metadata": {},
   "outputs": [],
   "source": [
    "lista = ['a', 'b', 'c', 'd', 'e', 'f']"
   ]
  },
  {
   "cell_type": "code",
   "execution_count": null,
   "metadata": {},
   "outputs": [],
   "source": [
    "lista[2:4]"
   ]
  },
  {
   "cell_type": "markdown",
   "metadata": {},
   "source": [
    "O primeiro número denota o índice do primeiro elemento que será colocado na fatia. \n",
    "\n",
    "O segundo número represente o índice do **primeiro** elemento fora da fatia.\n",
    "\n",
    "No exemplo acima a fatia contém os elementos de índices 2 e 3 (o elemento de índice 4 fica de fora).\n",
    "\n",
    "Veja outro exemplo:"
   ]
  },
  {
   "cell_type": "code",
   "execution_count": null,
   "metadata": {},
   "outputs": [],
   "source": [
    "lista[4:]"
   ]
  },
  {
   "cell_type": "markdown",
   "metadata": {},
   "source": [
    "Neste exemplo, o segundo número foi suprimido, o que indica que queremos a fatia que começa no índice 4 e vai até o fim da lista.\n",
    "\n",
    "Podemos também suprimir o primeiro número para retornar um prefixo da lista:"
   ]
  },
  {
   "cell_type": "code",
   "execution_count": null,
   "metadata": {},
   "outputs": [],
   "source": [
    "lista[:4]"
   ]
  },
  {
   "cell_type": "code",
   "execution_count": null,
   "metadata": {},
   "outputs": [],
   "source": [
    "lista[:-2]"
   ]
  },
  {
   "cell_type": "markdown",
   "metadata": {},
   "source": [
    "## Tuplas\n",
    "\n",
    "Em Python, uma tupla é algo análogo a uma lista. A diferença é que tuplas são imutáveis! \n",
    "\n",
    "Você não pode executar operações de adição nem remção em uma tupla. Uma vez criada, ela não pode mais ser modificada.\n",
    "\n",
    "Você também não pode mudar o conteúdo de uma posição da tupla.\n",
    "\n",
    "Veja os exemplos:"
   ]
  },
  {
   "cell_type": "code",
   "execution_count": null,
   "metadata": {},
   "outputs": [],
   "source": [
    "\n",
    "x"
   ]
  },
  {
   "cell_type": "code",
   "execution_count": null,
   "metadata": {},
   "outputs": [],
   "source": [
    "'a' in x"
   ]
  },
  {
   "cell_type": "code",
   "execution_count": null,
   "metadata": {},
   "outputs": [],
   "source": [
    "x[1]"
   ]
  },
  {
   "cell_type": "code",
   "execution_count": null,
   "metadata": {},
   "outputs": [],
   "source": [
    "len(x)"
   ]
  },
  {
   "cell_type": "markdown",
   "metadata": {},
   "source": [
    "## Tuplas\n",
    "\n",
    "Como explicamos acima, em Python as tuplas são imutáveis. Você também não pode mudar o conteúdo de uma posição da tupla. Você também não pode executar operações de adição nem remção em uma tupla.\n",
    "\n",
    "As três células de código a seguir deverão gerar erro de execução:"
   ]
  },
  {
   "cell_type": "code",
   "execution_count": null,
   "metadata": {
    "scrolled": true
   },
   "outputs": [],
   "source": [
    "x = ('a', 2, 5)\n",
    "x[1] = 234"
   ]
  },
  {
   "cell_type": "code",
   "execution_count": null,
   "metadata": {
    "scrolled": true
   },
   "outputs": [],
   "source": [
    "x.append(4)"
   ]
  },
  {
   "cell_type": "code",
   "execution_count": null,
   "metadata": {},
   "outputs": [],
   "source": [
    "x.pop()"
   ]
  },
  {
   "cell_type": "markdown",
   "metadata": {},
   "source": [
    "No entantp, preste atenção nas próximas duas células:"
   ]
  },
  {
   "cell_type": "code",
   "execution_count": null,
   "metadata": {},
   "outputs": [],
   "source": [
    "x = x + (3, 5)"
   ]
  },
  {
   "cell_type": "code",
   "execution_count": null,
   "metadata": {
    "scrolled": true
   },
   "outputs": [],
   "source": [
    "x"
   ]
  },
  {
   "cell_type": "markdown",
   "metadata": {},
   "source": [
    "Depois de executar as duas últimas células, você deve estar se perguntando: \"Uai, não era imutável???\"\n",
    "\n",
    "Sim, tuplas são imutáveis. O que aconteceu é que criamos uma **nova tupla** concatenando a tupla guardada na variável `x` com a tupla `(3, 5)` e essa nova _tupla_ é então guardada na variável `x`.\n"
   ]
  },
  {
   "cell_type": "markdown",
   "metadata": {},
   "source": [
    "<hr>\n",
    "\n",
    "### Exercício <span class=\"exec\"></span>: Reverso duma sequencia\n",
    "\n",
    "Escreva um programa que pergunte ao usuário por um inteiro $n > 0$ e depois leia uma sequência de $n$ dados que podem ser números inteiros, reais ou cadeias de caracteres. Seu programa deve imprimir a sequência na ordem inversa à ordem de leitura. "
   ]
  },
  {
   "cell_type": "code",
   "execution_count": null,
   "metadata": {},
   "outputs": [],
   "source": []
  },
  {
   "cell_type": "markdown",
   "metadata": {},
   "source": [
    "\n",
    "\n",
    "### Exercício <span class=\"exec\"></span>: Sem repetições\n",
    "\n",
    "Escreva um programa que leia uma sequência de $n$ inteiros e imprima a sequência sem repetições. Por exemplo, se a entrada é $n=10$ e a sequência lida tem os números 3, 5, 8, 10, -1, 5, 3, 5, -2, 3 seu programa deve imprimir 3, 5, 8, 10, -1, -2.\n",
    "\n"
   ]
  },
  {
   "cell_type": "code",
   "execution_count": null,
   "metadata": {},
   "outputs": [],
   "source": []
  },
  {
   "cell_type": "markdown",
   "metadata": {},
   "source": [
    "<span style=\"color: red;\">Execute a célula abaixo para melhorar a aparência deste <i>notebook</i>.</span>"
   ]
  },
  {
   "cell_type": "code",
   "execution_count": 36,
   "metadata": {
    "init_cell": true
   },
   "outputs": [
    {
     "data": {
      "text/html": [
       "<style>\n",
       ".rendered_html h1 {\n",
       "    background-color: #555;\n",
       "    color: white;\n",
       "    padding: .5em;\n",
       "    // border-bottom: 2px solid #000;\n",
       "    // padding-bottom: .6em;\n",
       "    margin-bottom: 1em;\n",
       "}\n",
       "\n",
       ".rendered_html h1 code {\n",
       "    color: #EBB7C5;\n",
       "    background-color: rgba(0,0,0,0);\n",
       "}\n",
       "\n",
       ".rendered_html h2 {\n",
       "    border-bottom: 1px solid #333;\n",
       "    padding-bottom: .6em;\n",
       "}\n",
       "                                      \n",
       ".rendered_html h3 {\n",
       "    color: #034f84;\n",
       "}\n",
       "\n",
       ".rendered_html code  {\n",
       "    padding: 2px 4px;\n",
       "    font-size: 90%;\n",
       "    color: #c7254e;\n",
       "    background-color: #f9f2f4;\n",
       "    border-radius: 4px;\n",
       "}\n",
       "\n",
       ".rendered_html pre code {\n",
       "    padding: 0px;\n",
       "    font-size: 90%;\n",
       "    color: #c7254e;\n",
       "    background-color: rgba(0, 0, 0, 0);\n",
       "}\n",
       "\n",
       "kbd {\n",
       "    border-radius: 3px;  \n",
       "    padding: 2px, 3px;\n",
       "}\n",
       "\n",
       "body {\n",
       "    counter-reset: h1counter excounter;\n",
       "}\n",
       "h1:before {\n",
       "    content: counter(h1counter) \".\\0000a0\\0000a0\";\n",
       "    counter-increment: h1counter;\n",
       "}\n",
       "span.exec:before {\n",
       "    content: counter(excounter);\n",
       "    counter-increment: excounter;\n",
       "}\n",
       "\n",
       "\n",
       "</style>  \n",
       "<script>\n",
       "location.hash = \"#homesweethome\";\n",
       "</script>"
      ],
      "text/plain": [
       "<IPython.core.display.HTML object>"
      ]
     },
     "metadata": {},
     "output_type": "display_data"
    }
   ],
   "source": [
    "%%html\n",
    "<style>\n",
    ".rendered_html h1 {\n",
    "    background-color: #555;\n",
    "    color: white;\n",
    "    padding: .5em;\n",
    "    // border-bottom: 2px solid #000;\n",
    "    // padding-bottom: .6em;\n",
    "    margin-bottom: 1em;\n",
    "}\n",
    "\n",
    ".rendered_html h1 code {\n",
    "    color: #EBB7C5;\n",
    "    background-color: rgba(0,0,0,0);\n",
    "}\n",
    "\n",
    ".rendered_html h2 {\n",
    "    border-bottom: 1px solid #333;\n",
    "    padding-bottom: .6em;\n",
    "}\n",
    "                                      \n",
    ".rendered_html h3 {\n",
    "    color: #034f84;\n",
    "}\n",
    "\n",
    ".rendered_html code  {\n",
    "    padding: 2px 4px;\n",
    "    font-size: 90%;\n",
    "    color: #c7254e;\n",
    "    background-color: #f9f2f4;\n",
    "    border-radius: 4px;\n",
    "}\n",
    "\n",
    ".rendered_html pre code {\n",
    "    padding: 0px;\n",
    "    font-size: 90%;\n",
    "    color: #c7254e;\n",
    "    background-color: rgba(0, 0, 0, 0);\n",
    "}\n",
    "\n",
    "kbd {\n",
    "    border-radius: 3px;  \n",
    "    padding: 2px, 3px;\n",
    "}\n",
    "\n",
    "body {\n",
    "    counter-reset: h1counter excounter;\n",
    "}\n",
    "h1:before {\n",
    "    content: counter(h1counter) \".\\0000a0\\0000a0\";\n",
    "    counter-increment: h1counter;\n",
    "}\n",
    "span.exec:before {\n",
    "    content: counter(excounter);\n",
    "    counter-increment: excounter;\n",
    "}\n",
    "\n",
    "\n",
    "</style>  \n",
    "<script>\n",
    "location.hash = \"#homesweethome\";\n",
    "</script>"
   ]
  },
  {
   "cell_type": "code",
   "execution_count": null,
   "metadata": {},
   "outputs": [],
   "source": []
  }
 ],
 "metadata": {
  "anaconda-cloud": {},
  "kernelspec": {
   "display_name": "Python 3",
   "language": "python",
   "name": "python3"
  },
  "language_info": {
   "codemirror_mode": {
    "name": "ipython",
    "version": 3
   },
   "file_extension": ".py",
   "mimetype": "text/x-python",
   "name": "python",
   "nbconvert_exporter": "python",
   "pygments_lexer": "ipython3",
   "version": "3.6.5"
  }
 },
 "nbformat": 4,
 "nbformat_minor": 1
}
